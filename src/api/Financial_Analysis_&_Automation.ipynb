{
  "cells": [
    {
      "cell_type": "markdown",
      "metadata": {
        "id": "p0ERkCmSSG-I"
      },
      "source": [
        "# Install Libraries"
      ]
    },
    {
      "cell_type": "code",
      "execution_count": 2,
      "metadata": {
        "id": "jRh9rJEK2Eb8"
      },
      "outputs": [
        {
          "name": "stdout",
          "output_type": "stream",
          "text": [
            "Requirement already satisfied: yfinance in ./.venv/lib/python3.11/site-packages (0.2.50)\n",
            "Requirement already satisfied: langchain_pinecone in ./.venv/lib/python3.11/site-packages (0.2.0)\n",
            "Requirement already satisfied: openai in ./.venv/lib/python3.11/site-packages (1.56.1)\n",
            "Requirement already satisfied: python-dotenv in ./.venv/lib/python3.11/site-packages (1.0.1)\n",
            "Requirement already satisfied: langchain-community in ./.venv/lib/python3.11/site-packages (0.3.9)\n",
            "Requirement already satisfied: sentence_transformers in ./.venv/lib/python3.11/site-packages (3.3.1)\n",
            "Requirement already satisfied: pandas>=1.3.0 in ./.venv/lib/python3.11/site-packages (from yfinance) (2.2.3)\n",
            "Requirement already satisfied: numpy>=1.16.5 in ./.venv/lib/python3.11/site-packages (from yfinance) (1.26.4)\n",
            "Requirement already satisfied: requests>=2.31 in ./.venv/lib/python3.11/site-packages (from yfinance) (2.32.3)\n",
            "Requirement already satisfied: multitasking>=0.0.7 in ./.venv/lib/python3.11/site-packages (from yfinance) (0.0.11)\n",
            "Requirement already satisfied: lxml>=4.9.1 in ./.venv/lib/python3.11/site-packages (from yfinance) (5.3.0)\n",
            "Requirement already satisfied: platformdirs>=2.0.0 in ./.venv/lib/python3.11/site-packages (from yfinance) (4.3.6)\n",
            "Requirement already satisfied: pytz>=2022.5 in ./.venv/lib/python3.11/site-packages (from yfinance) (2024.2)\n",
            "Requirement already satisfied: frozendict>=2.3.4 in ./.venv/lib/python3.11/site-packages (from yfinance) (2.4.6)\n",
            "Requirement already satisfied: peewee>=3.16.2 in ./.venv/lib/python3.11/site-packages (from yfinance) (3.17.8)\n",
            "Requirement already satisfied: beautifulsoup4>=4.11.1 in ./.venv/lib/python3.11/site-packages (from yfinance) (4.12.3)\n",
            "Requirement already satisfied: html5lib>=1.1 in ./.venv/lib/python3.11/site-packages (from yfinance) (1.1)\n",
            "Requirement already satisfied: aiohttp<3.10,>=3.9.5 in ./.venv/lib/python3.11/site-packages (from langchain_pinecone) (3.9.5)\n",
            "Requirement already satisfied: langchain-core<0.4,>=0.3 in ./.venv/lib/python3.11/site-packages (from langchain_pinecone) (0.3.21)\n",
            "Requirement already satisfied: pinecone-client<6.0.0,>=5.0.0 in ./.venv/lib/python3.11/site-packages (from langchain_pinecone) (5.0.1)\n",
            "Requirement already satisfied: anyio<5,>=3.5.0 in ./.venv/lib/python3.11/site-packages (from openai) (4.6.2.post1)\n",
            "Requirement already satisfied: distro<2,>=1.7.0 in ./.venv/lib/python3.11/site-packages (from openai) (1.9.0)\n",
            "Requirement already satisfied: httpx<1,>=0.23.0 in ./.venv/lib/python3.11/site-packages (from openai) (0.28.0)\n",
            "Requirement already satisfied: jiter<1,>=0.4.0 in ./.venv/lib/python3.11/site-packages (from openai) (0.8.0)\n",
            "Requirement already satisfied: pydantic<3,>=1.9.0 in ./.venv/lib/python3.11/site-packages (from openai) (2.10.3)\n",
            "Requirement already satisfied: sniffio in ./.venv/lib/python3.11/site-packages (from openai) (1.3.1)\n",
            "Requirement already satisfied: tqdm>4 in ./.venv/lib/python3.11/site-packages (from openai) (4.67.1)\n",
            "Requirement already satisfied: typing-extensions<5,>=4.11 in ./.venv/lib/python3.11/site-packages (from openai) (4.12.2)\n",
            "Requirement already satisfied: PyYAML>=5.3 in ./.venv/lib/python3.11/site-packages (from langchain-community) (6.0.2)\n",
            "Requirement already satisfied: SQLAlchemy<3,>=1.4 in ./.venv/lib/python3.11/site-packages (from langchain-community) (2.0.36)\n",
            "Requirement already satisfied: dataclasses-json<0.7,>=0.5.7 in ./.venv/lib/python3.11/site-packages (from langchain-community) (0.6.7)\n",
            "Requirement already satisfied: httpx-sse<0.5.0,>=0.4.0 in ./.venv/lib/python3.11/site-packages (from langchain-community) (0.4.0)\n",
            "Requirement already satisfied: langchain<0.4.0,>=0.3.8 in ./.venv/lib/python3.11/site-packages (from langchain-community) (0.3.9)\n",
            "Requirement already satisfied: langsmith<0.2.0,>=0.1.125 in ./.venv/lib/python3.11/site-packages (from langchain-community) (0.1.147)\n",
            "Requirement already satisfied: pydantic-settings<3.0.0,>=2.4.0 in ./.venv/lib/python3.11/site-packages (from langchain-community) (2.6.1)\n",
            "Requirement already satisfied: tenacity!=8.4.0,<10,>=8.1.0 in ./.venv/lib/python3.11/site-packages (from langchain-community) (9.0.0)\n",
            "Requirement already satisfied: transformers<5.0.0,>=4.41.0 in ./.venv/lib/python3.11/site-packages (from sentence_transformers) (4.46.3)\n",
            "Requirement already satisfied: torch>=1.11.0 in ./.venv/lib/python3.11/site-packages (from sentence_transformers) (2.2.2)\n",
            "Requirement already satisfied: scikit-learn in ./.venv/lib/python3.11/site-packages (from sentence_transformers) (1.5.2)\n",
            "Requirement already satisfied: scipy in ./.venv/lib/python3.11/site-packages (from sentence_transformers) (1.14.1)\n",
            "Requirement already satisfied: huggingface-hub>=0.20.0 in ./.venv/lib/python3.11/site-packages (from sentence_transformers) (0.26.3)\n",
            "Requirement already satisfied: Pillow in ./.venv/lib/python3.11/site-packages (from sentence_transformers) (11.0.0)\n",
            "Requirement already satisfied: aiosignal>=1.1.2 in ./.venv/lib/python3.11/site-packages (from aiohttp<3.10,>=3.9.5->langchain_pinecone) (1.3.1)\n",
            "Requirement already satisfied: attrs>=17.3.0 in ./.venv/lib/python3.11/site-packages (from aiohttp<3.10,>=3.9.5->langchain_pinecone) (24.2.0)\n",
            "Requirement already satisfied: frozenlist>=1.1.1 in ./.venv/lib/python3.11/site-packages (from aiohttp<3.10,>=3.9.5->langchain_pinecone) (1.5.0)\n",
            "Requirement already satisfied: multidict<7.0,>=4.5 in ./.venv/lib/python3.11/site-packages (from aiohttp<3.10,>=3.9.5->langchain_pinecone) (6.1.0)\n",
            "Requirement already satisfied: yarl<2.0,>=1.0 in ./.venv/lib/python3.11/site-packages (from aiohttp<3.10,>=3.9.5->langchain_pinecone) (1.18.3)\n",
            "Requirement already satisfied: idna>=2.8 in ./.venv/lib/python3.11/site-packages (from anyio<5,>=3.5.0->openai) (3.10)\n",
            "Requirement already satisfied: soupsieve>1.2 in ./.venv/lib/python3.11/site-packages (from beautifulsoup4>=4.11.1->yfinance) (2.6)\n",
            "Requirement already satisfied: marshmallow<4.0.0,>=3.18.0 in ./.venv/lib/python3.11/site-packages (from dataclasses-json<0.7,>=0.5.7->langchain-community) (3.23.1)\n",
            "Requirement already satisfied: typing-inspect<1,>=0.4.0 in ./.venv/lib/python3.11/site-packages (from dataclasses-json<0.7,>=0.5.7->langchain-community) (0.9.0)\n",
            "Requirement already satisfied: six>=1.9 in ./.venv/lib/python3.11/site-packages (from html5lib>=1.1->yfinance) (1.16.0)\n",
            "Requirement already satisfied: webencodings in ./.venv/lib/python3.11/site-packages (from html5lib>=1.1->yfinance) (0.5.1)\n",
            "Requirement already satisfied: certifi in ./.venv/lib/python3.11/site-packages (from httpx<1,>=0.23.0->openai) (2024.8.30)\n",
            "Requirement already satisfied: httpcore==1.* in ./.venv/lib/python3.11/site-packages (from httpx<1,>=0.23.0->openai) (1.0.7)\n",
            "Requirement already satisfied: h11<0.15,>=0.13 in ./.venv/lib/python3.11/site-packages (from httpcore==1.*->httpx<1,>=0.23.0->openai) (0.14.0)\n",
            "Requirement already satisfied: filelock in ./.venv/lib/python3.11/site-packages (from huggingface-hub>=0.20.0->sentence_transformers) (3.16.1)\n",
            "Requirement already satisfied: fsspec>=2023.5.0 in ./.venv/lib/python3.11/site-packages (from huggingface-hub>=0.20.0->sentence_transformers) (2024.10.0)\n",
            "Requirement already satisfied: packaging>=20.9 in ./.venv/lib/python3.11/site-packages (from huggingface-hub>=0.20.0->sentence_transformers) (24.2)\n",
            "Requirement already satisfied: langchain-text-splitters<0.4.0,>=0.3.0 in ./.venv/lib/python3.11/site-packages (from langchain<0.4.0,>=0.3.8->langchain-community) (0.3.2)\n",
            "Requirement already satisfied: jsonpatch<2.0,>=1.33 in ./.venv/lib/python3.11/site-packages (from langchain-core<0.4,>=0.3->langchain_pinecone) (1.33)\n",
            "Requirement already satisfied: orjson<4.0.0,>=3.9.14 in ./.venv/lib/python3.11/site-packages (from langsmith<0.2.0,>=0.1.125->langchain-community) (3.10.12)\n",
            "Requirement already satisfied: requests-toolbelt<2.0.0,>=1.0.0 in ./.venv/lib/python3.11/site-packages (from langsmith<0.2.0,>=0.1.125->langchain-community) (1.0.0)\n",
            "Requirement already satisfied: python-dateutil>=2.8.2 in ./.venv/lib/python3.11/site-packages (from pandas>=1.3.0->yfinance) (2.9.0.post0)\n",
            "Requirement already satisfied: tzdata>=2022.7 in ./.venv/lib/python3.11/site-packages (from pandas>=1.3.0->yfinance) (2024.2)\n",
            "Requirement already satisfied: pinecone-plugin-inference<2.0.0,>=1.0.3 in ./.venv/lib/python3.11/site-packages (from pinecone-client<6.0.0,>=5.0.0->langchain_pinecone) (1.1.0)\n",
            "Requirement already satisfied: pinecone-plugin-interface<0.0.8,>=0.0.7 in ./.venv/lib/python3.11/site-packages (from pinecone-client<6.0.0,>=5.0.0->langchain_pinecone) (0.0.7)\n",
            "Requirement already satisfied: urllib3>=1.26.0 in ./.venv/lib/python3.11/site-packages (from pinecone-client<6.0.0,>=5.0.0->langchain_pinecone) (2.2.3)\n",
            "Requirement already satisfied: annotated-types>=0.6.0 in ./.venv/lib/python3.11/site-packages (from pydantic<3,>=1.9.0->openai) (0.7.0)\n",
            "Requirement already satisfied: pydantic-core==2.27.1 in ./.venv/lib/python3.11/site-packages (from pydantic<3,>=1.9.0->openai) (2.27.1)\n",
            "Requirement already satisfied: charset-normalizer<4,>=2 in ./.venv/lib/python3.11/site-packages (from requests>=2.31->yfinance) (3.4.0)\n",
            "Requirement already satisfied: greenlet!=0.4.17 in ./.venv/lib/python3.11/site-packages (from SQLAlchemy<3,>=1.4->langchain-community) (3.1.1)\n",
            "Requirement already satisfied: sympy in ./.venv/lib/python3.11/site-packages (from torch>=1.11.0->sentence_transformers) (1.13.3)\n",
            "Requirement already satisfied: networkx in ./.venv/lib/python3.11/site-packages (from torch>=1.11.0->sentence_transformers) (3.4.2)\n",
            "Requirement already satisfied: jinja2 in ./.venv/lib/python3.11/site-packages (from torch>=1.11.0->sentence_transformers) (3.1.4)\n",
            "Requirement already satisfied: regex!=2019.12.17 in ./.venv/lib/python3.11/site-packages (from transformers<5.0.0,>=4.41.0->sentence_transformers) (2024.11.6)\n",
            "Requirement already satisfied: tokenizers<0.21,>=0.20 in ./.venv/lib/python3.11/site-packages (from transformers<5.0.0,>=4.41.0->sentence_transformers) (0.20.3)\n",
            "Requirement already satisfied: safetensors>=0.4.1 in ./.venv/lib/python3.11/site-packages (from transformers<5.0.0,>=4.41.0->sentence_transformers) (0.4.5)\n",
            "Requirement already satisfied: joblib>=1.2.0 in ./.venv/lib/python3.11/site-packages (from scikit-learn->sentence_transformers) (1.4.2)\n",
            "Requirement already satisfied: threadpoolctl>=3.1.0 in ./.venv/lib/python3.11/site-packages (from scikit-learn->sentence_transformers) (3.5.0)\n",
            "Requirement already satisfied: jsonpointer>=1.9 in ./.venv/lib/python3.11/site-packages (from jsonpatch<2.0,>=1.33->langchain-core<0.4,>=0.3->langchain_pinecone) (3.0.0)\n",
            "Requirement already satisfied: mypy-extensions>=0.3.0 in ./.venv/lib/python3.11/site-packages (from typing-inspect<1,>=0.4.0->dataclasses-json<0.7,>=0.5.7->langchain-community) (1.0.0)\n",
            "Requirement already satisfied: propcache>=0.2.0 in ./.venv/lib/python3.11/site-packages (from yarl<2.0,>=1.0->aiohttp<3.10,>=3.9.5->langchain_pinecone) (0.2.1)\n",
            "Requirement already satisfied: MarkupSafe>=2.0 in ./.venv/lib/python3.11/site-packages (from jinja2->torch>=1.11.0->sentence_transformers) (3.0.2)\n",
            "Requirement already satisfied: mpmath<1.4,>=1.1.0 in ./.venv/lib/python3.11/site-packages (from sympy->torch>=1.11.0->sentence_transformers) (1.3.0)\n",
            "\n",
            "\u001b[1m[\u001b[0m\u001b[34;49mnotice\u001b[0m\u001b[1;39;49m]\u001b[0m\u001b[39;49m A new release of pip is available: \u001b[0m\u001b[31;49m23.3.1\u001b[0m\u001b[39;49m -> \u001b[0m\u001b[32;49m24.3.1\u001b[0m\n",
            "\u001b[1m[\u001b[0m\u001b[34;49mnotice\u001b[0m\u001b[1;39;49m]\u001b[0m\u001b[39;49m To update, run: \u001b[0m\u001b[32;49mpip install --upgrade pip\u001b[0m\n"
          ]
        }
      ],
      "source": [
        "! pip install yfinance langchain_pinecone openai python-dotenv langchain-community sentence_transformers\n",
        "\n",
        "# ! pip install yfinance openai python-dotenv sentence_transformers"
      ]
    },
    {
      "cell_type": "code",
      "execution_count": 3,
      "metadata": {
        "id": "gskZos1j1eeV"
      },
      "outputs": [
        {
          "name": "stderr",
          "output_type": "stream",
          "text": [
            "/Users/brauliopf/Documents/Dev/headstarter/projects/wk7/.venv/lib/python3.11/site-packages/pinecone/data/index.py:1: TqdmWarning: IProgress not found. Please update jupyter and ipywidgets. See https://ipywidgets.readthedocs.io/en/stable/user_install.html\n",
            "  from tqdm.autonotebook import tqdm\n"
          ]
        }
      ],
      "source": [
        "from langchain_pinecone import PineconeVectorStore\n",
        "from openai import OpenAI\n",
        "import json\n",
        "import yfinance as yf\n",
        "import concurrent.futures\n",
        "from langchain_community.embeddings import HuggingFaceEmbeddings\n",
        "from langchain.schema import Document\n",
        "from sklearn.metrics.pairwise import cosine_similarity\n",
        "from sentence_transformers import SentenceTransformer\n",
        "from pinecone import Pinecone\n",
        "import numpy as np\n",
        "import requests\n",
        "import os\n",
        "from dotenv import load_dotenv\n",
        "import signal"
      ]
    },
    {
      "cell_type": "markdown",
      "metadata": {},
      "source": [
        "# Set up global functions"
      ]
    },
    {
      "cell_type": "code",
      "execution_count": 4,
      "metadata": {},
      "outputs": [],
      "source": [
        "# Define a timeout handler\n",
        "def timeout_handler(signum, frame):\n",
        "    raise TimeoutError(\"Execution timed out\")\n",
        "\n",
        "# Set the signal handler\n",
        "signal.signal(signal.SIGALRM, timeout_handler)\n",
        "\n",
        "# Initialize Pinecone\n",
        "pc = Pinecone(api_key=os.getenv(\"PINECONE_API_KEY\"),)\n",
        "\n",
        "# Connect to your Pinecone index\n",
        "pc_index = pc.Index(\"stocks\")\n",
        "\n",
        "# Load environment variables from .env file\n",
        "load_dotenv(override=True);\n",
        "\n",
        "# Initialize tracking lists\n",
        "successful_tickers = []\n",
        "unsuccessful_tickers = []"
      ]
    },
    {
      "cell_type": "code",
      "execution_count": 5,
      "metadata": {
        "id": "X1Gg34Y-2A8_"
      },
      "outputs": [],
      "source": [
        "def get_stock_info(symbol: str) -> dict:\n",
        "    \"\"\"\n",
        "    Retrieves and formats detailed information about a stock from Yahoo Finance (yf).\n",
        "\n",
        "    Args:\n",
        "        symbol (str): The stock ticker symbol to look up.\n",
        "\n",
        "    Returns:\n",
        "        dict: A dictionary containing detailed stock information, including ticker, name,\n",
        "              business summary, city, state, country, industry, and sector.\n",
        "    \"\"\"\n",
        "    try:\n",
        "        signal.alarm(7)\n",
        "        data = yf.Ticker(symbol)\n",
        "        signal.alarm(0)\n",
        "        stock_info = data.info\n",
        "    except Exception as e:\n",
        "        print(f\"Error fetching stock info for {symbol}: {e}\")\n",
        "        return None\n",
        "\n",
        "    properties = {\n",
        "        \"Ticker\": stock_info.get('symbol', 'Information not available'),\n",
        "        'Name': stock_info.get('longName', 'Information not available'),\n",
        "        'Business Summary': stock_info.get('longBusinessSummary'),\n",
        "        'City': stock_info.get('city', 'Information not available'),\n",
        "        'State': stock_info.get('state', 'Information not available'),\n",
        "        'Country': stock_info.get('country', 'Information not available'),\n",
        "        'Industry': stock_info.get('industry', 'Information not available'),\n",
        "        'Sector': stock_info.get('sector', 'Information not available'),\n",
        "        '10-Day AVG Volume': stock_info.get('averageDailyVolume10Day', 'Information not available'),\n",
        "        'Market Cap': stock_info.get('marketCap', 'Information not available'),\n",
        "    }\n",
        "\n",
        "    return properties"
      ]
    },
    {
      "cell_type": "code",
      "execution_count": 6,
      "metadata": {
        "colab": {
          "base_uri": "https://localhost:8080/"
        },
        "id": "Zk1P2UGDLqsz",
        "outputId": "82d107e2-be29-4c9c-89a5-8d4ab11a8e9c"
      },
      "outputs": [],
      "source": [
        "def get_huggingface_embeddings(text, model_name=\"sentence-transformers/all-mpnet-base-v2\"):\n",
        "    \"\"\"\n",
        "    Generates embeddings for the given text using a specified Hugging Face model.\n",
        "\n",
        "    Args:\n",
        "        text (str): The input text to generate embeddings for.\n",
        "        model_name (str): The name of the Hugging Face model to use.\n",
        "                          Defaults to \"sentence-transformers/all-mpnet-base-v2\".\n",
        "\n",
        "    Returns:\n",
        "        np.ndarray: The generated embeddings as a NumPy array.\n",
        "    \"\"\"\n",
        "    model = SentenceTransformer(model_name)\n",
        "    return model.encode(text)\n",
        "\n",
        "\n",
        "def cosine_similarity_between_sentences(sentence1, sentence2):\n",
        "    \"\"\"\n",
        "    Calculates the cosine similarity between two sentences.\n",
        "\n",
        "    Args:\n",
        "        sentence1 (str): The first sentence for similarity comparison.\n",
        "        sentence2 (str): The second sentence for similarity comparison.\n",
        "\n",
        "    Returns:\n",
        "        float: The cosine similarity score between the two sentences,\n",
        "               ranging from -1 (completely opposite) to 1 (identical).\n",
        "\n",
        "    Notes:\n",
        "        Prints the similarity score to the console in a formatted string.\n",
        "    \"\"\"\n",
        "    # Get embeddings for both sentences\n",
        "    embedding1 = np.array(get_huggingface_embeddings(sentence1))\n",
        "    embedding2 = np.array(get_huggingface_embeddings(sentence2))\n",
        "\n",
        "    # Reshape embeddings for cosine_similarity function\n",
        "    # Convert 1D array to 2D array (1 rows x {length of array} columns)\n",
        "    # \"-1\" sets the number of columns based on the original array length. \n",
        "    embedding1 = embedding1.reshape(1, -1)\n",
        "    embedding2 = embedding2.reshape(1, -1)\n",
        "\n",
        "    # Calculate cosine similarity\n",
        "    similarity = cosine_similarity(embedding1, embedding2)\n",
        "    similarity_score = similarity[0][0]\n",
        "    print(f\"Cosine similarity between the two sentences: {similarity_score:.4f}\")\n",
        "    return similarity_score"
      ]
    },
    {
      "cell_type": "code",
      "execution_count": 7,
      "metadata": {
        "colab": {
          "base_uri": "https://localhost:8080/"
        },
        "id": "EGptiJJM23Yn",
        "outputId": "6f2baa5f-b7e2-461b-ced2-1be8ec19bee5"
      },
      "outputs": [
        {
          "name": "stdout",
          "output_type": "stream",
          "text": [
            "Cosine similarity between the two sentences: 0.3635\n"
          ]
        }
      ],
      "source": [
        "# Test similarity score\n",
        "aapl_info = get_stock_info(\"AAPL\")\n",
        "\n",
        "aapl_description = aapl_info['Business Summary']\n",
        "\n",
        "company_description = \"I want to find companies that make smartphones and are headquarted in California\"\n",
        "\n",
        "similarity = cosine_similarity_between_sentences(aapl_description, company_description)"
      ]
    },
    {
      "cell_type": "markdown",
      "metadata": {},
      "source": [
        "# Create Vector Index"
      ]
    },
    {
      "cell_type": "markdown",
      "metadata": {
        "id": "3OoPZQWyRufp"
      },
      "source": [
        "## Get all the Stocks in the Stock Market"
      ]
    },
    {
      "cell_type": "code",
      "execution_count": 8,
      "metadata": {
        "colab": {
          "base_uri": "https://localhost:8080/"
        },
        "id": "kfm8BFeuRs4Z",
        "outputId": "f7b6531a-4fbf-4c76-cc87-303679327931"
      },
      "outputs": [
        {
          "name": "stdout",
          "output_type": "stream",
          "text": [
            "File downloaded successfully and saved as 'company_tickers.json'\n"
          ]
        }
      ],
      "source": [
        "def get_company_tickers():\n",
        "    \"\"\"\n",
        "    Downloads and parses the Stock ticker symbols from the GitHub-hosted SEC company tickers JSON file.\n",
        "\n",
        "    Returns:\n",
        "        dict: A dictionary containing company tickers and related information.\n",
        "\n",
        "    Notes:\n",
        "        The data is sourced from the official SEC website via a GitHub repository:\n",
        "        https://raw.githubusercontent.com/team-headstart/Financial-Analysis-and-Automation-with-LLMs/main/company_tickers.json\n",
        "    \"\"\"\n",
        "    # URL to fetch the raw JSON file from GitHub\n",
        "    url = \"https://raw.githubusercontent.com/team-headstart/Financial-Analysis-and-Automation-with-LLMs/main/company_tickers.json\"\n",
        "\n",
        "    # Making a GET request to the URL\n",
        "    response = requests.get(url)\n",
        "\n",
        "    # Checking if the request was successful\n",
        "    if response.status_code == 200:\n",
        "        # Parse the JSON content directly\n",
        "        # decode as utf-8 (Unicode --Standard)\n",
        "        company_tickers = json.loads(response.content.decode('utf-8'))\n",
        "\n",
        "        # Optionally save the content to a local file for future use\n",
        "        with open(\"company_tickers.json\", \"w\", encoding=\"utf-8\") as file:\n",
        "            json.dump(company_tickers, file, indent=4)\n",
        "\n",
        "        print(\"File downloaded successfully and saved as 'company_tickers.json'\")\n",
        "        return company_tickers\n",
        "    else:\n",
        "        print(f\"Failed to download file. Status code: {response.status_code}\")\n",
        "        return None\n",
        "\n",
        "company_tickers = get_company_tickers()"
      ]
    },
    {
      "cell_type": "code",
      "execution_count": 9,
      "metadata": {
        "colab": {
          "base_uri": "https://localhost:8080/"
        },
        "id": "n2g0tXXISQz-",
        "outputId": "4a9f71a8-2017-470c-df7f-53b0a17675e0"
      },
      "outputs": [
        {
          "data": {
            "text/plain": [
              "9998"
            ]
          },
          "execution_count": 9,
          "metadata": {},
          "output_type": "execute_result"
        }
      ],
      "source": [
        "len(company_tickers)"
      ]
    },
    {
      "cell_type": "markdown",
      "metadata": {
        "id": "WCPYOo32VhOr"
      },
      "source": [
        "## Inserting Stocks into Pinecone"
      ]
    },
    {
      "cell_type": "code",
      "execution_count": 10,
      "metadata": {
        "colab": {
          "base_uri": "https://localhost:8080/"
        },
        "id": "4uYmYnT6SQ9N",
        "outputId": "c45789c5-a025-4e1a-8dfd-72a6ce31f586"
      },
      "outputs": [
        {
          "name": "stderr",
          "output_type": "stream",
          "text": [
            "/var/folders/7l/scl9qg_x7h96pccwh3xspr3w0000gn/T/ipykernel_1858/3414157537.py:6: LangChainDeprecationWarning: The class `HuggingFaceEmbeddings` was deprecated in LangChain 0.2.2 and will be removed in 1.0. An updated version of the class exists in the :class:`~langchain-huggingface package and should be used instead. To use it run `pip install -U :class:`~langchain-huggingface` and import as `from :class:`~langchain_huggingface import HuggingFaceEmbeddings``.\n",
            "  hf_embeddings = HuggingFaceEmbeddings() # use as parameter only. if you want to execute, use $get_huggingface_embeddings()\n",
            "/var/folders/7l/scl9qg_x7h96pccwh3xspr3w0000gn/T/ipykernel_1858/3414157537.py:6: LangChainDeprecationWarning: Default values for HuggingFaceEmbeddings.model_name were deprecated in LangChain 0.2.16 and will be removed in 0.4.0. Explicitly pass a model_name to the HuggingFaceEmbeddings constructor instead.\n",
            "  hf_embeddings = HuggingFaceEmbeddings() # use as parameter only. if you want to execute, use $get_huggingface_embeddings()\n"
          ]
        }
      ],
      "source": [
        "pinecone_api_key = os.getenv(\"PINECONE_API_KEY\")\n",
        "\n",
        "index_name = \"stocks\"\n",
        "namespace = \"stock-descriptions-rich\"\n",
        "\n",
        "hf_embeddings = HuggingFaceEmbeddings() # use as parameter only. if you want to execute, use $get_huggingface_embeddings()\n",
        "vectorstore = PineconeVectorStore(index_name=index_name, embedding=hf_embeddings)"
      ]
    },
    {
      "cell_type": "code",
      "execution_count": 10,
      "metadata": {},
      "outputs": [],
      "source": [
        "# PROCESS FEW AT A TIME\n",
        "# pc = Pinecone(api_key=os.getenv(\"PINECONE_API_KEY\"))\n",
        "\n",
        "# index = pc.Index(index_name)\n",
        "\n",
        "# # Delete all the stocks in the Pinecone index \"stock-descriptions\"\n",
        "# # index.delete(delete_all=True, namespace=namespace)\n",
        "\n",
        "# company_tickers = load_test_tickers()\n",
        "\n",
        "# # Prepare your tickers: remove already processed + remove duplicates\n",
        "# tickers_to_process = list(set([company_tickers[num]['ticker'] for num in company_tickers.keys() if company_tickers[num]['ticker'] not in successful_tickers]))\n",
        "\n",
        "# # Process them\n",
        "# print(f'{len(tickers_to_process)}:', tickers_to_process)\n",
        "\n",
        "# # generate embeddings for one stock\n",
        "# stock_ticker = tickers_to_process[3]\n",
        "# stock_data = get_stock_info(stock_ticker)\n",
        "# stock_description = stock_data['Business Summary']\n",
        "# stock_embedding = get_huggingface_embeddings(stock_description)\n",
        "\n",
        "# # insert the stock embedding into the Pinecone index\n",
        "# stock_embedding_list = stock_embedding.tolist() if isinstance(stock_embedding, np.ndarray) else stock_embedding\n",
        "\n",
        "# index.upsert(vectors=[\n",
        "#   {\"id\":str(stock_data[\"Ticker\"]), \"values\":stock_embedding_list, \"metadata\":stock_data}\n",
        "#   ], namespace=namespace)\n"
      ]
    },
    {
      "cell_type": "code",
      "execution_count": 11,
      "metadata": {},
      "outputs": [],
      "source": [
        "# List all vectors in the index (CAREFUL: too much data!)\n",
        "# for ids in index.list(prefix='', limit=10, namespace=namespace):\n",
        "#     print(ids) # ['pref1', 'pref2', 'pref3']"
      ]
    },
    {
      "cell_type": "markdown",
      "metadata": {},
      "source": [
        "### Sequential Process Embeddings"
      ]
    },
    {
      "cell_type": "markdown",
      "metadata": {},
      "source": [
        "[![](https://mermaid.ink/img/pako:eNqNkl1rgzAUhv9KyMXYwF74cSVjYA0rhY6WKRQWe5FqWqU1cUm8GKX_ffmwa65Gc6Hn5LxvzmM8F1jzhsIUHgUZWlCiigG9MlwoXp_AqpPqdS_esmyzCsBivV7o10fxXgagLFbZDsxmb2COi44dzxRsBK-plDoBZSsoaXbuNPeU4941qWBBv0fKVEfOvud5yejh0NWdLr1U0LnMmts2eYhDMLsZgEHa3TV5aEXbEG-zZZnasiXfLMGnaScVeNKRHDiT1DNunRGF5pMFtUaAiCKe5h4hp84jHHks9mJ8mMjBRBOMrT9G45wommis84bjYThZHuPYwzA_xqeIHUU8UZjyYxDOiOIJwhj_uRKnzhOc3FHsdHgoiUNJJhRTfgzFGVEyoRijj0JZAwPYU9GTrtFjfDHbFVQt7WkFUx02RJzMMF21joyKFz-shqkSIw2g4OOxhemBnKXOxqEhiqKO6DHt_3YHwr44v-XXX7It6B4?type=png)](https://mermaid.live/edit#pako:eNqNkl1rgzAUhv9KyMXYwF74cSVjYA0rhY6WKRQWe5FqWqU1cUm8GKX_ffmwa65Gc6Hn5LxvzmM8F1jzhsIUHgUZWlCiigG9MlwoXp_AqpPqdS_esmyzCsBivV7o10fxXgagLFbZDsxmb2COi44dzxRsBK-plDoBZSsoaXbuNPeU4941qWBBv0fKVEfOvud5yejh0NWdLr1U0LnMmts2eYhDMLsZgEHa3TV5aEXbEG-zZZnasiXfLMGnaScVeNKRHDiT1DNunRGF5pMFtUaAiCKe5h4hp84jHHks9mJ8mMjBRBOMrT9G45wommis84bjYThZHuPYwzA_xqeIHUU8UZjyYxDOiOIJwhj_uRKnzhOc3FHsdHgoiUNJJhRTfgzFGVEyoRijj0JZAwPYU9GTrtFjfDHbFVQt7WkFUx02RJzMMF21joyKFz-shqkSIw2g4OOxhemBnKXOxqEhiqKO6DHt_3YHwr44v-XXX7It6B4)"
      ]
    },
    {
      "cell_type": "code",
      "execution_count": 14,
      "metadata": {
        "colab": {
          "base_uri": "https://localhost:8080/",
          "height": 408
        },
        "id": "o6U2hkPfjBAb",
        "outputId": "77dfbb3c-4da7-4d66-c057-36a5fc5a5e85"
      },
      "outputs": [],
      "source": [
        "def sequential_process_embeddings():\n",
        "    for idx, stock in company_tickers.items():\n",
        "        stock_ticker = stock['ticker']\n",
        "        stock_data = get_stock_info(stock_ticker)\n",
        "        stock_description = stock_data['Business Summary']\n",
        "\n",
        "        print(f\"Processing stock {idx} / {len(company_tickers)} :\", stock_ticker)\n",
        "\n",
        "        docs = Document(page_content=stock_description, metadata=stock_data)\n",
        "        print(docs)\n",
        "        vectorstore_from_documents = PineconeVectorStore.from_documents(\n",
        "            documents=[docs],\n",
        "            embedding=hf_embeddings,\n",
        "            index_name=index_name,\n",
        "            namespace=namespace\n",
        "        )\n",
        "    return \"Done\""
      ]
    },
    {
      "cell_type": "markdown",
      "metadata": {},
      "source": [
        "### Parallelizing Embeddings"
      ]
    },
    {
      "cell_type": "markdown",
      "metadata": {
        "id": "VmXAEa0vlTIj"
      },
      "source": [
        "[![](https://mermaid.ink/img/pako:eNqFk0uLgzAQgP_KkMOe7MHXRZaC1baXvsDCwqqHrGarVJMSE9hS-983NnWxULceRmf4Pp2MyQVlLCfIQweOTwXsw4SCuvw4Eiw7wqpsxPsXn_r-bmXAcrtdqts6WuwN2Ecr3wB__blJYTKZwixe45JCwKjgrKoI7zwXdphjlVXwwfiR8CbVH9BxdjPbqKxlJTAlTDbVuYXAjDUNZveSHWcZaRromkj_F61etIbire8Xpt2b9tDslvpCdHrRGYrddF6Ibi-6D4vsBjqcUWDe_NCMl0TAG6gfwwmEWOA7FlgasEYBWwP2KOBowBkFXA24Y4COoW61DRklLcwvQUHUHooEFrK53hHrAbkX7WdF51nRfVLUcX4fs8y6ObawMON-phvyI2CGRVakyEA14TUuc7XnL52ZIFGQmiTIU4855scEJfSqOCwFi840Q57gkhiIM3kokPeNq0Zl8pRjQcISq4NT_1VPmH4y1ufXXwdkCM8?type=png)](https://mermaid.live/edit#pako:eNqFk0uLgzAQgP_KkMOe7MHXRZaC1baXvsDCwqqHrGarVJMSE9hS-983NnWxULceRmf4Pp2MyQVlLCfIQweOTwXsw4SCuvw4Eiw7wqpsxPsXn_r-bmXAcrtdqts6WuwN2Ecr3wB__blJYTKZwixe45JCwKjgrKoI7zwXdphjlVXwwfiR8CbVH9BxdjPbqKxlJTAlTDbVuYXAjDUNZveSHWcZaRromkj_F61etIbire8Xpt2b9tDslvpCdHrRGYrddF6Ibi-6D4vsBjqcUWDe_NCMl0TAG6gfwwmEWOA7FlgasEYBWwP2KOBowBkFXA24Y4COoW61DRklLcwvQUHUHooEFrK53hHrAbkX7WdF51nRfVLUcX4fs8y6ObawMON-phvyI2CGRVakyEA14TUuc7XnL52ZIFGQmiTIU4855scEJfSqOCwFi840Q57gkhiIM3kokPeNq0Zl8pRjQcISq4NT_1VPmH4y1ufXXwdkCM8)"
      ]
    },
    {
      "cell_type": "code",
      "execution_count": 12,
      "metadata": {},
      "outputs": [
        {
          "name": "stdout",
          "output_type": "stream",
          "text": [
            "Loaded 9037 successful tickers\n",
            "Loaded 1134 unsuccessful tickers\n"
          ]
        }
      ],
      "source": [
        "def refresh_tracking_lists():\n",
        "    # Initialize tracking lists\n",
        "    successful_tickers = []\n",
        "    unsuccessful_tickers = []\n",
        "\n",
        "    # Build tracking lists --Load existing successful/unsuccessful tickers\n",
        "    try:\n",
        "        with open('successful_tickers.txt', 'r') as f:\n",
        "            successful_tickers = [line.strip() for line in f if line.strip()]\n",
        "        print(f\"Loaded {len(successful_tickers)} successful tickers\")\n",
        "    except FileNotFoundError:\n",
        "        print(\"No existing successful tickers file found\")\n",
        "\n",
        "    try:\n",
        "        with open('unsuccessful_tickers.txt', 'r') as f:\n",
        "            unsuccessful_tickers = [line.strip() for line in f if line.strip()]\n",
        "        print(f\"Loaded {len(unsuccessful_tickers)} unsuccessful tickers\")\n",
        "    except FileNotFoundError:\n",
        "        print(\"No existing unsuccessful tickers file found\")\n",
        "    \n",
        "    return successful_tickers, unsuccessful_tickers\n",
        "\n",
        "successful_tickers, unsuccessful_tickers = refresh_tracking_lists()"
      ]
    },
    {
      "cell_type": "code",
      "execution_count": 13,
      "metadata": {},
      "outputs": [],
      "source": [
        "def process_stock_pc(stock_ticker: str) -> str:\n",
        "    \"\"\"\n",
        "    Get a stock ticker info and store it in Pinecone.\n",
        "    Uses global variables (successful_tickers and unsuccessful_tickers) as tracking lists to guarantee ticker is processed only once.\n",
        "    \"\"\"\n",
        "\n",
        "    # Skip if already processed\n",
        "    if stock_ticker in successful_tickers:\n",
        "        return f\"Already processed {stock_ticker}\"\n",
        "\n",
        "    try:\n",
        "        # Get and store stock data\n",
        "        stock_data = get_stock_info(stock_ticker)\n",
        "        stock_description = stock_data['Business Summary']\n",
        "\n",
        "        # generate embeddings for one stock\n",
        "        stock_embedding = get_huggingface_embeddings(stock_description)\n",
        "\n",
        "        # insert the stock embedding into the Pinecone index\n",
        "        stock_embedding_list = stock_embedding.tolist() if isinstance(stock_embedding, np.ndarray) else stock_embedding\n",
        "\n",
        "        pc_index.upsert(vectors=[\n",
        "        {\"id\":str(stock_data[\"Ticker\"]), \"values\":stock_embedding_list, \"metadata\":stock_data}\n",
        "        ], namespace=namespace)\n",
        "\n",
        "        # Track success\n",
        "        with open('successful_tickers.txt', 'a') as f:\n",
        "            f.write(f\"{stock_ticker}\\n\")\n",
        "        successful_tickers.append(stock_ticker)\n",
        "\n",
        "        return f\"Processed {stock_ticker} successfully\"\n",
        "\n",
        "    except Exception as e:\n",
        "        # Track failure\n",
        "        with open('unsuccessful_tickers.txt', 'a') as f:\n",
        "            f.write(f\"{stock_ticker}\\n\")\n",
        "        unsuccessful_tickers.append(f\"{stock_ticker}: [Error] {e}\")\n",
        "\n",
        "        return f\"ERROR processing {stock_ticker}: {e}\""
      ]
    },
    {
      "cell_type": "code",
      "execution_count": 14,
      "metadata": {
        "colab": {
          "base_uri": "https://localhost:8080/",
          "height": 1000
        },
        "id": "mClWyH8HXD-z",
        "outputId": "7ccbb4aa-b59c-41c9-bd15-a1c623e2a611"
      },
      "outputs": [],
      "source": [
        "def process_stock(stock_ticker: str) -> str:\n",
        "    \"\"\"\n",
        "    Get a stock ticker info and store it in Pinecone.\n",
        "    Uses global variables (successful_tickers and unsuccessful_tickers) as tracking lists to guarantee ticker is processed only once.\n",
        "    \"\"\"\n",
        "\n",
        "    # Skip if already processed\n",
        "    if stock_ticker in successful_tickers:\n",
        "        return f\"Already processed {stock_ticker}\"\n",
        "\n",
        "    try:\n",
        "        # Get and store stock data\n",
        "        stock_data = get_stock_info(stock_ticker)\n",
        "        stock_description = stock_data['Business Summary']\n",
        "\n",
        "        # Store stock description in Pinecone\n",
        "        vectorstore_from_texts = PineconeVectorStore.from_documents(\n",
        "            documents=[Document(page_content=stock_description, metadata=stock_data)],\n",
        "            ids=[stock_ticker],\n",
        "            embedding=hf_embeddings,\n",
        "            index_name=index_name,\n",
        "            namespace=namespace\n",
        "        )\n",
        "\n",
        "        # Track success\n",
        "        with open('successful_tickers.txt', 'a') as f:\n",
        "            f.write(f\"{stock_ticker}\\n\")\n",
        "        successful_tickers.append(stock_ticker)\n",
        "\n",
        "        return f\"Processed {stock_ticker} successfully\"\n",
        "\n",
        "    except Exception as e:\n",
        "        # Track failure\n",
        "        with open('unsuccessful_tickers.txt', 'a') as f:\n",
        "            f.write(f\"{stock_ticker}\\n\")\n",
        "        unsuccessful_tickers.append(stock_ticker)\n",
        "\n",
        "        return f\"ERROR processing {stock_ticker}: {e}\"\n",
        "\n",
        "def parallel_process_stocks(tickers: list, max_workers: int = 10) -> None:\n",
        "    \"\"\"\n",
        "    Processes a list of stock tickers in parallel using a thread pool executor.\n",
        "    \"\"\"\n",
        "    # Module \"concurrent.futures\" is part of the standard library and provides a high-level interface for asynchronously executing callables (functions or methods) using threads or processes. (futures a like promises)\n",
        "\n",
        "    # - ThreadPoolExecutor: Manages a pool of threads to execute tasks concurrently.\n",
        "    with concurrent.futures.ThreadPoolExecutor(max_workers=max_workers) as executor:\n",
        "        # define an executor to run the process_stock function in each thread\n",
        "            # trigger independent threads with the \"submit\" method (build set of \"futures\")\n",
        "            # handle futures with the \"as_completed\" method\n",
        "        # here, we use a list comprehension to build a dictionary of futures\n",
        "            # list comprehension to build a dictionary from the tickers list\n",
        "            # \"submit\" method is provided by the ThreadPoolExecutor and schedules callable for when arguments are ready. It is optimized to schedule multiple calls at once.\n",
        "        future_to_ticker = {\n",
        "            executor.submit(process_stock_pc, ticker): ticker\n",
        "            for ticker in tickers\n",
        "        }\n",
        "        # - as_completed(): Returns an iterator over the futures in the order of completion.\n",
        "        # access local variable \"future_to_ticker\" to get the output of the callable function and check if there was an error\n",
        "        for future in concurrent.futures.as_completed(future_to_ticker):\n",
        "            ticker = future_to_ticker[future]\n",
        "            try:\n",
        "                # - result(): Retrieves the result of the callable associated with the future.\n",
        "                result = future.result()\n",
        "                print(result)\n",
        "\n",
        "                # Stop on error\n",
        "                if result.startswith(\"ERROR\"):\n",
        "                    print(f\"Stopping program due to error in {ticker}\")\n",
        "                    executor.shutdown(wait=False)\n",
        "                    raise SystemExit(1)\n",
        "\n",
        "            except Exception as exc:\n",
        "                print(f'{ticker} generated an exception: {exc}')\n",
        "                print(\"Stopping program due to exception\")\n",
        "                executor.shutdown(wait=False)\n",
        "                raise SystemExit(1)"
      ]
    },
    {
      "cell_type": "code",
      "execution_count": 15,
      "metadata": {},
      "outputs": [
        {
          "name": "stdout",
          "output_type": "stream",
          "text": [
            "REPORT\n",
            "Unique tickers: 9998\n",
            "Unique successful tickers: 9037\n",
            "Unique to process: 961\n"
          ]
        }
      ],
      "source": [
        "# Prepare your tickers: remove already processed + remove duplicates\n",
        "tickers_to_process = list(set([company_tickers[num]['ticker'] for num in company_tickers.keys() if company_tickers[num]['ticker'] not in successful_tickers]))\n",
        "\n",
        "# Report\n",
        "print(\"REPORT\")\n",
        "print(\"Unique tickers:\", len(set(company_tickers.keys())))\n",
        "print(\"Unique successful tickers:\", len(set(successful_tickers)))\n",
        "print(\"Unique to process:\", len(set(tickers_to_process)))"
      ]
    },
    {
      "cell_type": "code",
      "execution_count": 16,
      "metadata": {},
      "outputs": [],
      "source": [
        "# Process them\n",
        "# parallel_process_stocks(tickers_to_process, max_workers=20)"
      ]
    },
    {
      "cell_type": "markdown",
      "metadata": {},
      "source": [
        "# Explore"
      ]
    },
    {
      "cell_type": "markdown",
      "metadata": {},
      "source": [
        "## Web Scrapping"
      ]
    },
    {
      "cell_type": "code",
      "execution_count": 22,
      "metadata": {},
      "outputs": [
        {
          "name": "stdout",
          "output_type": "stream",
          "text": [
            "Crossbeam CEO and co-founder Bob Moore shares his tools for quashing biases in pursuit of the truth at every stage of company building.\n",
            "Founders are unrelenting optimists. It’s practically a requisite trait to start a company — you have to suspend disbelief to build toward the future state you’ve imagined.\n",
            "But if grit goes untempered by realism, blind spots can emerge. When you’ve put everything on the line to make your startup work, it’s easy for happy ears syndrome to set in, only taking in what you want to hear and subconsciously filtering out the rest.\n",
            "Three-time founder Bob Moore ran into this pitfall while building his first two startups, which, by his own account, netted good-not-great outcomes. In a postmortem, he could easily point to bad timing, market dynamics or fearsome competitors — in other words, things outside of his control. Instead, he calls out the limits of his own judgment as a young founder.\n",
            "Moore launched his first company, an analytics platform called RJMetrics, on the heels of the 2008 downturn. He and his co-founder muscled their way through a turbulent first few years, successfully bootstrapping the company and finding product-market fit.\n",
            "Then, the market moved, and they got left behind. RJMetrics still scored a modest acquisition in 2016, but competitor Looker far upstaged them with a $2.6 billion sale to Google. Moore’s second startup, Stitch, was a spinoff of RJMetrics’ data infrastructure tech and nabbed a heftier acquisition in less than two years — but it still wasn't the IPO-scale smash hit that he’d been hoping for.\n",
            "“If I had to distill the lesson down to something that I wish I had more of back then — and something I’ve worked on relentlessly since — is this idea of intellectual honesty. It’s something that all founders need to care really deeply about,” says Moore. For founders, intellectual honesty can be defined as an openness to — and active pursuit of — the truth, even when it proves you wrong. \n",
            "In this exclusive interview, Moore follows up on his treatise on startup resiliency with a founder’s guide to intellectual honesty, making this abstract concept actionable by laying out a set of tactics to get to the ground truth more quickly. He puts his strategies into context alongside his own experiences as a multi-time founder, offering up specific examples of the biases most beguiling to founders, and sharing how he’s combating them now as he tackles his third company, Crossbeam (a partnerships ecosystem platform he calls the “LinkedIn for data”).\n",
            "Moore starts by outlining several checks for the early days of company building. He then unpacks how to interpret product-market fit signals, from the warning signs he missed that RJMetrics was losing traction to the indicator he identified for Crossbeam. He wraps up with his takeaways from a growth-stage test of his intellectual honesty: deciding to merge with a competitor.\n",
            "Moore has had a decade-plus in the trenches to develop these psychological guardrails, which he’s now generously turned into the candid guide he wished he had when he was just starting out.\n",
            "For many founders, one of the first and most consequential decisions that can predate the startup idea itself is choosing someone to build with. When thinking through your dream co-founder criteria, Moore unsurprisingly recommends adding intellectual accountability to your list.\n",
            "This is one early call Moore thinks he got right when choosing a co-founder in Jake Stein, who gave Moore some of his most memorable lessons in intellectual honesty when they were building RJMetrics and Stitch together.\n",
            "He shares an example of how the duo balanced each other out. “Back in the early days of RJMetrics, I’d read whatever the hot startup book of the day was, and I went to Jake with all these ideas from the book and told him, ‘We should do this and this.’ And he said, ‘That’s cool. But what in that book did you not agree with?’” says Moore.\n",
            "“That took me aback. I hadn’t pushed myself to exist in a space where I could hold two thoughts at the same time — in this case, that this book might have both extremely good ideas and also bad advice that won’t work for us,” he says.\n",
            "Across a decade and two startups, this dynamic helped both Moore and Stein get good at looking at both sides of a problem. \n",
            "“Jake would sometimes call himself the Charlie Munger to my Warren Buffett. That's how it started out. But over the course of the decade, we converged into both being able to hold those two conflicting thoughts at once.”\n",
            "“The thing that my co-founder Jake brought to my thinking was helping me become not more pessimistic or critical, but capable of holding two conflicting thoughts in my head at the same time,” he says.\n",
            "In the six-month interim after selling Stitch, Moore attempted to take some time off and get some R&R. Except he couldn’t quit thinking about what he wanted to do next — so he dug up a running list of startup ideas he had tucked away in Evernote (“which would probably be in Notion now,” Moore notes).\n",
            "“I probably should have gone to therapy, but instead I cracked that list open. I tried to sit on a beach for a couple of weeks and just lost my mind,” he jokes.\n",
            "This third time around, Moore wanted to build something even bigger than his previous two startups. So he knew he’d have to take some time to mull over which idea had the most legs.\n",
            "First, he had to whittle down his list of roughly 100 miscellaneous entries — which ran the gamut from B2B SaaS tools to an escape room franchise.\n",
            "There’s a common startup refrain that encourages aspiring founders to “fall in love with the problem.” This isn’t bad advice, considering most founders will dedicate years of their life to solving it. But it misses another equally important dimension. Too often, founders — especially those earlier in their careers — fail to take their own strengths into account when choosing an idea, merely chasing market trends or their own passions.\n",
            "When Moore started RJMetrics, he and Stein were fresh off a two-year stint in venture capital, hungry for a startup of their own. But when they quit their investor day jobs to get RJMetrics off the ground, they didn’t have a strategic game plan beyond wanting in on the heating-up analytics market.\n",
            "“We went in as mercenaries. We wanted in on this startup game and big data was increasingly a thing. I knew how to write a damn good SQL query. But that was all we had,” says Moore.\n",
            "Looking back on it now, Moore thinks one of the contributing factors to RJMetrics’ shorter shelf-life was that the founding duo lacked a sense of where the market was headed. “When we started RJMetrics, I didn't have strong conviction. It may have been something that lit up my brain, but I didn’t even know the word ‘dashboard’ until after I started the company. We didn't know business intelligence as a market — we didn't even know who Gartner was,” he says.\n",
            "Years into building RJMetrics, this absence of a long-term vision became glaring in the product strategy. “We went out in that market and we hustled for the first couple years. But when we got stuck on a product direction, more often than not, we’d turn to the data and customer feedback and say, ‘Well, eight people asked for that, and six people asked for that. So we’ll just build the thing more people want,” he says. “Because we weren’t steering with a solid strategy, we pursued all these product micro-optimizations and landed ourselves in a place where we created a company that creates some value for some people. Our growth was stuck on a local maximum.”\n",
            "“RJMetrics became designed by committee. We didn’t have a core conviction that a certain specific thing ought to exist because that’s where the market was going. That wasn’t there,” says Moore.\n",
            "So when Moore was assessing ideas for his third startup, he knew he needed to be honest with himself about not only what he was excited to build, but what he was uniquely positioned to build well, given his chops as a multi-time SaaS founder.\n",
            "To do that, he devised a simple founder-market fit pre-screen — a mental matrix with two dimensions. He posed these questions to himself:\n",
            "This helped Moore quickly rule out the oddball ideas and pipe dreams. “This exercise took my list of 100 down to 10 or 15 ideas,” he says.\n",
            "“I had varying levels of where the ideas for my previous companies fell in the two-by-two matrix. I think that was part of why those businesses were base hits, and neither one of them got to an IPO scale,” says Moore.\n",
            "With the remaining handful of ideas that landed in the top right quadrant of his mental matrix, Moore wanted to get some outside opinions. But he chose to do things differently for the validation step: He bypassed the classic customer-driven discovery model and instead ran his remaining ideas past fellow founders.\n",
            "Moore felt that founders could offer more nuanced perspectives — and widen any preconceived notions he might have had about each of these ideas. “Founders are special. They need to develop an extremely high level of empathy and understanding for the needs of people across multiple personas, and also understand a baseline grasp on how markets evolve over time and what makes for something that's more durable and versatile,” he says.\n",
            "“Rather than narrowing these ideas down into the scope of how a persona would use it, I was able to broaden my horizons of what they could become,” says Moore. “I wasn't interested in having my next thing be anything other than an IPO-scale business — I wasn’t optimizing for a ‘build it for a few years and sell’ situation. I thought I had one more startup in me and I wanted to see how far I could take it.”\n",
            "But Moore was aware that with this method of idea validation, he ran the risk of confronting a bias. Founders, a famously optimistic bunch, default to seeing the potential in an idea — and in a fellow founder. So Moore knew a founder friend might still be willing to make a bet on him, even if they thought his idea was bad — and not offer up any constructive feedback.\n",
            "Moore admits he probably wouldn’t be fully honest if he were in the other founder’s shoes. “If a friend of mine who started and sold a company comes to me with a new idea, I figure they're already attached to this idea and I'm not going to talk them out of it,” he says. “Even if I don't love the idea, if I know this person well enough I actually might still write an angel check and make a bet on them — not because I think the idea is going to work, but because I think this person is not going to allow themselves to fail,” he says.\n",
            "“So the FOMO of not being in on their next thing is greater than my willingness to create confrontation with them, which isn’t a hard ratio to keep. I'm not going to give them as candid feedback as I should,” says Moore.\n",
            "When pitching his ideas to fellow founders, Moore built in a guard to fend off empty flattery: He told each founder to choose which of the three ideas they liked the best.\n",
            "“I started the meeting by not biasing them in any way. I’d say, ‘Hey, I've got three business ideas. I like them all equally. I want to pitch you on them and see where it goes.’ I did around 20 or 30 of these calls and I distributed the 10 ideas across all of them,” says Moore.\n",
            "This approach gave Moore much more revealing responses than, “I like that!” or, “That’s cool.” “I made these founders compare and contrast and ask, ‘Why this one? Why not that one?’ This created a forcing function to encourage them to criticize my ideas,” he explains.\n",
            "The idea for what would become Crossbeam quickly bubbled to the top. Moore knew it was a winner when founders started recommending who else he should talk to — essentially pointing him toward potential customers. The idea had a built-in viral loop.\n",
            "“With the Crossbeam idea, there was always a next step. People kept telling me, ‘You know who you should talk to about this? Because I know they’ve run into this problem.’ Or, ‘Can you put me on your mailing list so I get updates when you actually start building this thing?’ Coming out of the conversations where I talked about Crossbeam, I was actually cultivating a waitlist, some pent-up demand.”\n",
            "Moore knows all too well that the levels of product-market fit aren’t a one-way door.\n",
            "RJMetrics arrived early to the data market during a recession and started out with a slow drip of revenue. It later clicked into place and enjoyed a few years of up-and-to-the-right numbers. Then, big players like Amazon Redshift, Tableau and Looker shook up the data stack, and RJMetrics didn’t adjust the product — and lost its momentum.\n",
            "So he’s developed a clear eye for what’s a mirage and what’s real when it comes to assessing product-market fit. Here, Moore breaks down the corners he refused to see around at RJMetrics and the litmus test he used for Crossbeam.\n",
            "In hindsight, Moore recalls two omens that RJMetrics’ product-market fit was slipping away: a high churn rate, and new competition cropping up.\n",
            "But he didn’t identify these cues as warning signs at the time. He attributes his failure to recognize what was happening to a line of thinking that’s especially tempting to bullish founders: “We know better than they do.”\n",
            "Building RJMetrics in a volatile financial landscape meant that there was always some degree of instability with its customers. “We always had a problem with churn at RJMetrics. We had a fairly low entry-level price point, and there were a lot of companies going out of business and getting acquired. We used to call it ‘structural churn’ — a baseline 10% of all our business in any given year would just go away because the companies would go out of business,” says Moore.\n",
            "But once the modern data stack era rolled around by 2015, the churn was magnified. “All these things started to break at once, and one of them was that churn got a little bit worse. Another was that our outbound SDR program, which used to be super ROI positive, completely stopped working. The economics of it went upside down,” says Moore.\n",
            "At the time, he and the team brushed off the issue — chalking it up to their customers making bad decisions. “We had a bunch of customers that churned because they decided to go to Looker or because their engineering team was going to take over the analytics stack and the marketing team was losing control of that budget. Our consistent reaction to that was, ‘Oh, they’ll be back in a year,’” he says.\n",
            "“For the sake of pattern recognition, this happened enough times that at some point, it clicked and we realized, ‘Oh, wait, I think we're the dumb ones.’ This was a pattern that we should have picked up on earlier.”\n",
            "In retrospect, another clue that the data market was quickly moving away from RJMetrics’ product came from a TechCrunch reporter — but at the time, Moore dismissed the threat that growing competition posed, citing the reporter’s lack of knowledge about the market.\n",
            "“When we announced our Series B round, Amazon had just launched Redshift as a data warehouse product. It didn’t even register as something that was competitive. It was an infrastructure product selling to engineering teams to store data, and we were an analytics product selling to marketing teams,” says Moore. “But a TechCrunch reporter asked me this question: ‘Aren't you scared of Redshift?’”\n",
            "Moore didn’t flinch. “I was so adamant that these were two completely different worlds. I remember talking to Jake, thinking, ‘This reporter must be on the wrong beat. They're trying to make this a story about Amazon because it'll generate more clicks. They don’t understand how our business works,’” he says.\n",
            "In hindsight, of course, the reporter proved to be onto something. “They saw around a corner when I was refusing to.”\n",
            "Moore’s advice here for founders is to be wary of the tendency to think that you know better than the people in your ecosystem — from customers to investors to reporters.\n",
            "If you start getting increasingly skeptical about troublesome data trends or industry observations, take a step back and question whether you’re the one obscuring what’s really happening.\n",
            "Moore contrasts the cautionary tale of waning product-market fit at RJMetrics to the powerful early sign that he’d found it at Crossbeam.\n",
            "To sidestep the cold-start problem, B2B startups launching their products to market typically lean on warm intros and existing relationships for their first few customers. But there’s a downside to that approach: People you know aren’t always going to be honest with you about whether they actually want to use your product.\n",
            "“Let’s say I take my product to a friend who started another company. He doesn’t want to hurt my feelings, so he’ll pay 50 bucks a month just to make me go away and not have to have an awkward conversation.’ And the tool will sit around and never get used,” explains Moore.\n",
            "So Moore needed to be careful when gauging interest from his own network — because folks cutting a check alone was not a strong enough PMF signal. \n",
            "Crossbeam is a network-driven software business, which is an approach typically reserved for consumer social networks. The conceit of this growth model is that if all your friends are on a new social network, you’ll want to join too. \n",
            "But on the flip side, if none of your friends are on it, you wouldn’t be inclined to sign up — unless you’re willing to do the heavy lifting of recruiting them onto it. It wouldn’t make sense for a company to join the Crossbeam platform if none of its partners were on it.\n",
            "“With a product like Crossbeam, this person that you’re asking to take a chance on you isn’t just spending their own time and their own energy to do you a favor. They’re also expending their social capital,” Moore explains.\n",
            "This created a pressure test for product-market fit. In the realm of B2B SaaS buying, it’s one thing to write a check — it’s far more telling when people are willing to spend their own precious social capital.\n",
            "“So if this would have fallen flat, it would have fallen flat immediately. My bluff would have been called the second I said to one of our earliest customers, ‘Hey, I know you said you like this, but can you also invite Zendesk to the platform?’ That's a real ‘show your cards’ moment,” he says.\n",
            "“By the time we get more than one degree of separation away from me and my personal relationships, that virality has nothing to do with my relationships and everything to do with people being willing to spend social capital just to use the product.”\n",
            "Founders might bristle at the idea of joining forces with a competitor after years of going head-to-head in the market. But that’s exactly what Moore did at Crossbeam, which recently merged with Reveal.\n",
            "In Moore’s view, this was the ultimate test of his intellectual honesty — and a far more mature perspective on competition compared to the one he had back at RJMetrics.\n",
            "Moore shares the backstory for the unconventional decision for two scaling private companies to team up. “Within six months of me starting this company, another guy named Simon Bouchez, who’s a repeat founder based in Paris, started a company that would become Reveal, which was doing basically the exact same thing,” says Moore.\n",
            "It’d be understandable for Moore to suspect imitation, but he didn’t think that was the case. “I think we came up with the same idea at the same time because we observed the same things at the same moment. He was based in Europe, so they had collected a lot of business in Europe,” he says.\n",
            "Moore eventually met Bouchez at a partnership leadership event in Miami. The two didn’t even chat about their competing businesses. Instead, they realized how much they clicked. “​​Our stories, despite being theoretically archrivals out there on the market, were basically the same. He’s like the French version of me. I'm the Philly version of him.”\n",
            "But the idea to merge companies didn’t come from either Moore or Bouchez. It came from their customers. “I started to notice in our product feedback channel that the number one requested feature from Crossbeam was for us to integrate with Reveal and to support the companies that were on the Reveal network,” says Moore. “We'd host a webinar and people would put in the chat, “When is the Reveal integration coming?”\n",
            "“It got to a point where we knew we had to put egos aside and do what's right for the customer here. Neither one of us could realize the true potential of our business without coming together.” \n",
            "For Moore, it was a decision with roots all the way back to when he first started leafing through his digital notebook full of ideas for his third startup. After two middling exits, he was determined to make a much bigger splash — but to hang tight to his original goal of building an IPO-scale business, he needed to let go of his ego. \n",
            "“What was important to us was making this as big as we could possibly make it, and not having our particular company's name on the business card or going down in history as the one that won the big battle,” he says. “We were both willing to set aside some dilution, some pride and some sense of control to make this one cohesive thing that will actually create what we wanted to create for our customers in the first place.” \n",
            "This article is a lightly edited version of our podcast interview with Moore on In Depth. Listen to the full episode here.\n"
          ]
        }
      ],
      "source": [
        "import requests\n",
        "from bs4 import BeautifulSoup\n",
        "\n",
        "def get_content_from_url(url):\n",
        "    r = requests.get(url)\n",
        "    soup = BeautifulSoup(r.text, 'html.parser')\n",
        "    s = soup.find('div', class_='entry-content')\n",
        "    content = soup.find_all('p')\n",
        "    content = [p.text for p in content]\n",
        "    content = \"\\n\".join(content)\n",
        "    return content\n",
        "\n",
        "url = \"https://review.firstround.com/the-uncomfortable-truth-a-3x-founders-guide-to-intellectual-honesty/\"\n",
        "print(get_content_from_url(url))"
      ]
    },
    {
      "cell_type": "markdown",
      "metadata": {},
      "source": [
        "## LLMs"
      ]
    },
    {
      "cell_type": "code",
      "execution_count": 17,
      "metadata": {},
      "outputs": [],
      "source": [
        "# process_stock_pc(\"MOND\")"
      ]
    },
    {
      "cell_type": "code",
      "execution_count": 63,
      "metadata": {},
      "outputs": [
        {
          "data": {
            "text/plain": [
              "\"{'address1': '1 Tesla Road', 'city': 'Austin', 'state': 'TX', 'zip': '78725', 'country': 'United States', 'phone': '512 516 8177', 'website': 'https://www.tesla.com', 'industry': 'Auto Manufacturers', 'industryKey': 'auto-manufacturers', 'industryDisp': 'Auto Manufacturers', 'sector': 'Consumer Cyclical', 'sectorKey': 'consumer-cyclical', 'sectorDisp': 'Consumer Cyclical', 'longBusinessSummary': 'Tesla, Inc. designs, develops, manufactures, leases, and sells electric vehicles, and energy generation and storage systems in the United States, China, and internationally. The company operates in two segments, Automotive, and Energy Generation and Storage. The Automotive segment offers electric vehicles, as well as sells automotive regulatory credits; and non-warranty after-sales vehicle, used vehicles, body shop and parts, supercharging, retail merchandise, and vehicle insurance services. This segment also provides sedans and sport utility vehicles through direct and used vehicle sales, a network of Tesla Superchargers, and in-app upgrades; purchase financing and leasing services; services for electric vehicles through its company-owned service locations and Tesla mobile service technicians; and vehicle limited warranties and extended service plans. The Energy Generation and Storage segment engages in the design, manufacture, installation, sale, and leasing of solar energy generation and energy storage products, and related services to residential, commercial, and industrial customers and utilities through its website, stores, and galleries, as well as through a network of channel partners; and provision of service and repairs to its energy product customers, including under warranty, as well as various financing options to its solar customers. The company was formerly known as Tesla Motors, Inc. and changed its name to Tesla, Inc. in February 2017. Tesla, Inc. was incorporated in 2003 and is headquartered in Austin, Texas.', 'fullTimeEmployees': 140473, 'companyOfficers': [{'maxAge': 1, 'name': 'Mr. Elon R. Musk', 'age': 51, 'title': 'Co-Founder, Technoking of Tesla, CEO & Director', 'yearBorn': 1972, 'fiscalYear': 2023, 'exercisedValue': 0, 'unexercisedValue': 0}, {'maxAge': 1, 'name': 'Mr. Vaibhav  Taneja', 'age': 45, 'title': 'Chief Financial Officer', 'yearBorn': 1978, 'fiscalYear': 2023, 'totalPay': 278000, 'exercisedValue': 8517957, 'unexercisedValue': 202075632}, {'maxAge': 1, 'name': 'Mr. Xiaotong  Zhu', 'age': 43, 'title': 'Senior Vice President of Automotive', 'yearBorn': 1980, 'fiscalYear': 2023, 'totalPay': 926877, 'exercisedValue': 0, 'unexercisedValue': 344144320}, {'maxAge': 1, 'name': 'Travis  Axelrod', 'title': 'Head of Investor Relations', 'fiscalYear': 2023, 'exercisedValue': 0, 'unexercisedValue': 0}, {'maxAge': 1, 'name': 'Brian  Scelfo', 'title': 'Senior Director of Corporate Development', 'fiscalYear': 2023, 'exercisedValue': 0, 'unexercisedValue': 0}, {'maxAge': 1, 'name': 'Mr. Franz  von Holzhausen', 'title': 'Chief Designer', 'fiscalYear': 2023, 'exercisedValue': 0, 'unexercisedValue': 0}, {'maxAge': 1, 'name': 'Mr. John  Walker', 'age': 60, 'title': 'Vice President of Sales - North America', 'yearBorn': 1963, 'fiscalYear': 2023, 'totalPay': 121550, 'exercisedValue': 0, 'unexercisedValue': 0}, {'maxAge': 1, 'name': 'Mr. Peter  Bannon', 'title': 'Chip Architect', 'fiscalYear': 2023, 'exercisedValue': 0, 'unexercisedValue': 0}, {'maxAge': 1, 'name': 'Mr. Turner  Caldwell', 'title': 'Engineering Manager', 'fiscalYear': 2023, 'exercisedValue': 0, 'unexercisedValue': 0}, {'maxAge': 1, 'name': 'Mr. Rodney D. Westmoreland Jr.', 'title': 'Director of Construction Management', 'fiscalYear': 2023, 'exercisedValue': 0, 'unexercisedValue': 0}], 'auditRisk': 7, 'boardRisk': 9, 'compensationRisk': 10, 'shareHolderRightsRisk': 9, 'overallRisk': 10, 'governanceEpochDate': 1733011200, 'compensationAsOfEpochDate': 1703980800, 'maxAge': 86400, 'priceHint': 2, 'previousClose': 369.49, 'open': 377.27, 'dayLow': 373.08, 'dayHigh': 377.52, 'regularMarketPreviousClose': 369.49, 'regularMarketOpen': 377.27, 'regularMarketDayLow': 373.08, 'regularMarketDayHigh': 377.52, 'beta': 2.295, 'trailingPE': 102.245735, 'forwardPE': 114.363235, 'volume': 8285973, 'regularMarketVolume': 8285973, 'averageVolume': 87196028, 'averageVolume10days': 66865600, 'averageDailyVolume10Day': 66865600, 'bid': 373.16, 'ask': 396.37, 'bidSize': 200, 'askSize': 100, 'marketCap': 1201266753536, 'fiftyTwoWeekLow': 138.8, 'fiftyTwoWeekHigh': 377.52, 'priceToSalesTrailing12Months': 12.365072, 'fiftyDayAverage': 281.3716, 'twoHundredDayAverage': 218.0677, 'currency': 'USD', 'enterpriseValue': 1165998948352, 'profitMargins': 0.13075, 'floatShares': 2793105010, 'sharesOutstanding': 3210060032, 'sharesShort': 76444266, 'sharesShortPriorMonth': 79364249, 'sharesShortPreviousMonthDate': 1728950400, 'dateShortInterest': 1731628800, 'sharesPercentSharesOut': 0.0238, 'heldPercentInsiders': 0.12911999, 'heldPercentInstitutions': 0.47909, 'shortRatio': 0.74, 'shortPercentOfFloat': 0.0273, 'impliedSharesOutstanding': 3210060032, 'bookValue': 21.806, 'priceToBook': 17.161304, 'lastFiscalYearEnd': 1703980800, 'nextFiscalYearEnd': 1735603200, 'mostRecentQuarter': 1727654400, 'earningsQuarterlyGrowth': 0.169, 'netIncomeToCommon': 12743000064, 'trailingEps': 3.66, 'forwardEps': 3.24, 'lastSplitFactor': '3:1', 'lastSplitDate': 1661385600, 'enterpriseToRevenue': 12.002, 'enterpriseToEbitda': 88.04, '52WeekChange': 0.51529694, 'SandP52WeekChange': 0.3194226, 'exchange': 'NMS', 'quoteType': 'EQUITY', 'symbol': 'TSLA', 'underlyingSymbol': 'TSLA', 'shortName': 'Tesla, Inc.', 'longName': 'Tesla, Inc.', 'firstTradeDateEpochUtc': 1277818200, 'timeZoneFullName': 'America/New_York', 'timeZoneShortName': 'EST', 'uuid': 'ec367bc4-f92c-397c-ac81-bf7b43cffaf7', 'messageBoardId': 'finmb_27444752', 'gmtOffSetMilliseconds': -18000000, 'currentPrice': 374.2194, 'targetHighPrice': 421.0, 'targetLowPrice': 116.0, 'targetMeanPrice': 249.75786, 'targetMedianPrice': 245.0, 'recommendationMean': 2.77083, 'recommendationKey': 'hold', 'numberOfAnalystOpinions': 42, 'totalCash': 33648001024, 'totalCashPerShare': 10.482, 'ebitda': 13244000256, 'totalDebt': 12782999552, 'quickRatio': 1.214, 'currentRatio': 1.844, 'totalRevenue': 97150001152, 'debtToEquity': 18.078, 'revenuePerShare': 30.457, 'returnOnAssets': 0.04759, 'returnOnEquity': 0.20389, 'freeCashflow': 676625024, 'operatingCashflow': 14478999552, 'earningsGrowth': 0.17, 'revenueGrowth': 0.078, 'grossMargins': 0.18229, 'ebitdaMargins': 0.13633001, 'operatingMargins': 0.107889995, 'financialCurrency': 'USD', 'trailingPegRatio': 10.2444}\\n\""
            ]
          },
          "execution_count": 63,
          "metadata": {},
          "output_type": "execute_result"
        }
      ],
      "source": [
        "# EXECUTE CODE CREATED BY AN LLM\n",
        "\n",
        "from langchain_core.tools import Tool\n",
        "from langchain_experimental.utilities import PythonREPL # read-eval-print-loop\n",
        "\n",
        "python_repl = PythonREPL();\n",
        "\n",
        "tools = [\n",
        "    Tool(\n",
        "        name=\"python_repl\",\n",
        "        description=\"A Python shell. Use this to execute python commands. Input should be a valid python command. If you want to see the output of a value, you should print it out with `print(...)`.\",\n",
        "        func=python_repl.run,\n",
        "    )\n",
        "]\n",
        "\n",
        "# tools can not output a value. It canonly be used to output prints in the console\n",
        "script_prompt = \"\"\"\n",
        "def funct():\n",
        "    import yfinance as yf\n",
        "    ticker = \"TSLA\"\n",
        "    stock = yf.Ticker(ticker)\n",
        "    return stock.info\n",
        "print(funct())\n",
        "\"\"\"\n",
        "\n",
        "tools[0].run(script_prompt)"
      ]
    },
    {
      "cell_type": "markdown",
      "metadata": {},
      "source": [
        "## Yahoo Finance API\n",
        "\n",
        "Reference:\n",
        "* https://ranaroussi.github.io/yfinance/index.html"
      ]
    },
    {
      "cell_type": "code",
      "execution_count": 59,
      "metadata": {},
      "outputs": [
        {
          "data": {
            "text/plain": [
              "[{'id': 'ARGUS_42037_TopBottomInsiderActivity_1733484442000',\n",
              "  'headHtml': 'Daily – Vickers Top Buyers & Sellers for 12/06/2024',\n",
              "  'provider': 'Argus Research',\n",
              "  'reportDate': '2024-12-06T11:27:22Z',\n",
              "  'reportTitle': 'The Vickers Top Buyers & Sellers is a daily report that identifies the five companies the largest insider purchase transactions based on the dollar value of the transactions as well as the five companies the largest insider sales transactions based on the dollar value of the transactions.',\n",
              "  'reportType': 'Top/Bottom Insider Activity'},\n",
              " {'id': 'ARGUS_42036_InsiderActivity_1733484442000',\n",
              "  'headHtml': 'Daily – Vickers Top Insider Picks for 12/06/2024',\n",
              "  'provider': 'Argus Research',\n",
              "  'reportDate': '2024-12-06T11:27:22Z',\n",
              "  'reportTitle': 'The Vickers Top Insider Picks is a daily report that utilizes a proprietary algorithm to identify 25 companies with compelling insider purchase histories based on transactions over the past three months.',\n",
              "  'reportType': 'Insider Activity'},\n",
              " {'id': 'MS_0P00009UPY_AnalystReport_1733478543000',\n",
              "  'headHtml': 'Analyst Report: Ulta Beauty, Inc.',\n",
              "  'provider': 'Morningstar',\n",
              "  'targetPrice': 360.0,\n",
              "  'targetPriceStatus': 'Maintained',\n",
              "  'investmentRating': 'Neutral',\n",
              "  'reportDate': '2024-12-06T09:49:03Z',\n",
              "  'reportTitle': 'With 1,385 stores at the end of fiscal 2023 and a partnership with Target, Ulta Beauty is the largest specialized beauty retailer in the US. The firm offers makeup (41% of 2023 sales), fragrances, skin care (19% of sales), and hair care products (19% of sales), and bath and body items. Ulta offers private-label products and more than 600 individual brands. It also offers salon services, including hair, makeup, skin, and brow services, in all stores. Most Ulta stores are approximately 10,000 square feet and are in suburban strip centers. Ulta was founded in 1990 and is based in Bolingbrook, Illinois. ',\n",
              "  'reportType': 'Analyst Report'},\n",
              " {'id': 'MS_0P00009C0X_AnalystReport_1733471523000',\n",
              "  'headHtml': 'Analyst Report: Lululemon Athletica Inc.',\n",
              "  'provider': 'Morningstar',\n",
              "  'targetPrice': 296.0,\n",
              "  'targetPriceStatus': 'Maintained',\n",
              "  'investmentRating': 'Neutral',\n",
              "  'reportDate': '2024-12-06T07:52:03Z',\n",
              "  'reportTitle': 'Lululemon Athletica designs, distributes, and markets athletic apparel, footwear, and accessories for women, men, and girls. Lululemon offers pants, shorts, tops, and jackets for both leisure and athletic activities such as yoga and running. The company also sells fitness accessories, such as bags, yoga mats, and equipment. Lululemon sells its products through more than 700 company-owned stores in about 20 countries, e-commerce, outlets, and wholesale accounts. The company was founded in 1998 and is based in Vancouver, Canada. ',\n",
              "  'reportType': 'Analyst Report'}]"
            ]
          },
          "execution_count": 59,
          "metadata": {},
          "output_type": "execute_result"
        }
      ],
      "source": [
        "ticker = \"TSLA\"\n",
        "stock = yf.Ticker(ticker)\n",
        "\n",
        "# # General info\n",
        "# stock.info['sectorKey'] # stock.info['sector'].lower().replace(\" \", \"-\")\n",
        "# stock.info['industryKey'] # stock.info['industry'].lower().replace(\" \", \"-\")\n",
        "\n",
        "# # Sector\n",
        "# yf.Sector(stock.info['sectorKey']).industries.sort_values(by='key', ascending=True)\n",
        "# yf.Sector(stock.info['sectorKey']).top_companies\n",
        "yf.Sector(stock.info['sectorKey']).research_reports\n",
        "\n",
        "# # Industry\n",
        "# yf.Industry(stock.info['industryKey']).research_reports\n",
        "\n",
        "# # SEC Filings\n",
        "# stock.get_sec_filings()\n",
        "# # Basic Stock Information\n",
        "# get_stock_info(ticker)\n",
        "# # Stock History\n",
        "# stock.history(period=\"5d\")\n",
        "# # Stock Financials\n",
        "# stock.financials\n",
        "# # Stock Earnings (income statement)\n",
        "# stock.income_stmt\n",
        "# # Stock Cash Flow (cash flow statement)\n",
        "# stock.cashflow\n",
        "# # Stock Balance Sheet (balance sheet)\n",
        "# stock.balance_sheet\n",
        "# # Stock Market Capitalization\n",
        "# stock.info['marketCap']"
      ]
    },
    {
      "cell_type": "markdown",
      "metadata": {
        "id": "HK_GCUV1OvIW"
      },
      "source": [
        "# Perform RAG"
      ]
    },
    {
      "cell_type": "code",
      "execution_count": 235,
      "metadata": {},
      "outputs": [],
      "source": [
        "query = \"What companies make electric cars?\""
      ]
    },
    {
      "cell_type": "markdown",
      "metadata": {},
      "source": [
        "## Qualify user query"
      ]
    },
    {
      "cell_type": "code",
      "execution_count": 236,
      "metadata": {},
      "outputs": [
        {
          "name": "stdout",
          "output_type": "stream",
          "text": [
            "Companies manufacturing fully electric vehicles (EVs) with zero tailpipe emissions, including luxury brands, mass market automotive manufacturers, and new entrants from the technology and mobility sectors, with a focus on European, North American, and Asian markets.\n"
          ]
        }
      ],
      "source": [
        "# build prompt\n",
        "prompt_qualifier = f\"\"\"\n",
        "You are a financial analyst, helping a client find stocks that are relevant to them. You will be given a raw query and your job is to qualify this query, adding context and keywords that will help delineate the user's interest and help you find the most relevant stocks.\n",
        "If the user expresses a preference, e.g. location, industry, political affiliation, branding positioning, etc, add that to the query.\n",
        "Keep your output short and concise, conversational, but detailed with the context and keywords added. Do not include any additional text other than the qualified query.\n",
        "Finally, do not include any requirement that the company be publicly traded.\n",
        "Your output should be a JSON object with the following keys:\n",
        "* \"query\": the qualified query\n",
        "\n",
        "Examples:\n",
        "\n",
        "$$Raw query$$ \"What are some companies that manufacture consumer hardware?\"\n",
        "$$Qualified query$$ {json.dumps({\"query\": \"Consumer-facing tech companies specializing in hardware development such as smartphones, laptops, smart home devices, gaming consoles, and VR headsets, listed on major US stock exchanges.\"})}\n",
        "\n",
        "$$Raw query$$ \"What are some companies that sell home decor?\"\n",
        "$$Qualified query$$ {json.dumps({\"query\":\"Retailers specializing in home furniture, furnishings, and decorative items, such as furniture stores, home goods stores, and online home decor marketplaces, with a strong e-commerce presence.\"})}\n",
        "\"\"\"\n",
        "\n",
        "# get qualified query\n",
        "client = OpenAI(\n",
        "  base_url=\"https://api.groq.com/openai/v1\",\n",
        "  api_key=os.getenv(\"GROQ_API_KEY\")\n",
        ")\n",
        "\n",
        "llm_response_long = client.chat.completions.create(\n",
        "    model=\"llama-3.1-70b-versatile\",\n",
        "    messages=[\n",
        "        {\"role\": \"system\", \"content\": prompt_qualifier},\n",
        "        {\"role\": \"user\", \"content\": f\"Raw query: {query}\"}\n",
        "    ]\n",
        ")\n",
        "\n",
        "query_long = json.loads(llm_response_long.choices[0].message.content)['query']\n",
        "\n",
        "print(query_long)"
      ]
    },
    {
      "cell_type": "code",
      "execution_count": 237,
      "metadata": {},
      "outputs": [
        {
          "name": "stdout",
          "output_type": "stream",
          "text": [
            "Fully electric vehicle manufacturers operating in Europe, North America, and Asia, across luxury, mass market, and emerging tech sectors.\n"
          ]
        }
      ],
      "source": [
        "prompt_shortener = f\"\"\"\n",
        "You were hired to write a query for a financial analyst. Your query will be used to match stocks with a similarity search. It must be short and conciese and dense with relevant keywords. Keep it at 2 sentences max. You will be given a raw query and your job is to write a short query that keeps the essence of the raw query.\n",
        "Your output must be only the requested query. No additional text.\n",
        "\"\"\"\n",
        "\n",
        "llm_response_qualified = client.chat.completions.create(\n",
        "    model=\"llama-3.1-70b-versatile\",\n",
        "    messages=[\n",
        "        {\"role\": \"system\", \"content\": prompt_shortener},\n",
        "        {\"role\": \"user\", \"content\": f\"Raw query: {query_long}\"}\n",
        "    ]\n",
        ")\n",
        "\n",
        "query_shortened = llm_response_qualified.choices[0].message.content\n",
        "\n",
        "print(query_shortened)"
      ]
    },
    {
      "cell_type": "code",
      "execution_count": 238,
      "metadata": {},
      "outputs": [
        {
          "name": "stdout",
          "output_type": "stream",
          "text": [
            "{}\n",
            "266 137 Fully electric vehicle manufacturers operating in Europe, North America, and Asia, across luxury, mass market, and emerging tech sectors.\n"
          ]
        }
      ],
      "source": [
        "# check if the qualified query uses special filters: Country, Sector, Market Cap, Volume\n",
        "\n",
        "filter_options_example = '''{\"$and\": [\n",
        "  {\"Market Cap\": {\"$gt\": 1000}},\n",
        "  {\"10-Day AVG Volume\": {\"$gte\": 1000000}}\n",
        "]}'''\n",
        "\n",
        "example_for = '{\"$and\": [{\"genre\": {\"$eq\": \"drama\"}}, {\"year\": {\"$gte\": 2020}}]}'\n",
        "example_or = '{\"$or\": [{\"genre\": {\"$eq\": \"drama\"}}, {\"year\": {\"$gte\": 2020}}]}'\n",
        "\n",
        "filter_prompt = f\"\"\"\n",
        "Check this query and assess if the answer to it requires any special filters. There are 2 filter options are: 'Market Cap' and '10-Day AVG Volume'.\n",
        "If the answer requires any of these filters, return the filter options in a dictionary with the filter name as key and the required value assigned to it. Do not include any other key different than the filter options specified above. If the answer does not require any of these filters, return an empty dictionary.\n",
        "Your output must be a JSON object with the dictionary of filters. No additional text.\n",
        "\n",
        "Use any of the following operators:\n",
        "Filter\tDescription\tSupported types\n",
        "$eq:    Matches vectors with metadata values that are equal to a specified value.\tNumber, string, boolean\n",
        "$ne:\tMatches vectors with metadata values that are not equal to a specified value.\tNumber, string, boolean\n",
        "$gt:\tMatches vectors with metadata values that are greater than a specified value.\tNumber\n",
        "$gte:\tMatches vectors with metadata values that are greater than or equal to a specified value.\tNumber\n",
        "$lt:\tMatches vectors with metadata values that are less than a specified value.\tNumber\n",
        "$lte:\tMatches vectors with metadata values that are less than or equal to a specified value.\tNumber\n",
        "$in:\tMatches vectors with metadata values that are in a specified array.\tString, number\n",
        "$nin:\tMatches vectors with metadata values that are not in a specified array.\tString, number\n",
        "$exists:\tMatches vectors with the specified metadata field.\tBoolean\n",
        "\n",
        "Or combine operators:\n",
        "Operator\tExample\n",
        "$and\t    {example_for}\n",
        "$or         {example_or}\n",
        "\n",
        "Examples: {filter_options_example}\n",
        "\"\"\"\n",
        "\n",
        "filters = client.chat.completions.create(\n",
        "    model=\"llama-3.1-70b-versatile\",\n",
        "    messages=[\n",
        "        {\"role\": \"system\", \"content\": filter_prompt},\n",
        "        {\"role\": \"user\", \"content\": f\"Query: {query_shortened}\"}\n",
        "    ],\n",
        ")\n",
        "\n",
        "filter_options = json.loads(filters.choices[0].message.content)\n",
        "print(filter_options)\n",
        "\n",
        "print(len(query_long), len(query_shortened), query_shortened)"
      ]
    },
    {
      "cell_type": "markdown",
      "metadata": {},
      "source": [
        "## Get relevant stocks"
      ]
    },
    {
      "cell_type": "code",
      "execution_count": 239,
      "metadata": {},
      "outputs": [],
      "source": [
        "query = query_shortened"
      ]
    },
    {
      "cell_type": "markdown",
      "metadata": {},
      "source": [
        "## Get relevant data about the stocks"
      ]
    },
    {
      "cell_type": "code",
      "execution_count": 240,
      "metadata": {
        "id": "c2fO8ql_OrWs"
      },
      "outputs": [],
      "source": [
        "raw_query_embedding = get_huggingface_embeddings(query)"
      ]
    },
    {
      "cell_type": "code",
      "execution_count": 241,
      "metadata": {},
      "outputs": [
        {
          "data": {
            "text/plain": [
              "{}"
            ]
          },
          "execution_count": 241,
          "metadata": {},
          "output_type": "execute_result"
        }
      ],
      "source": [
        "filter_options"
      ]
    },
    {
      "cell_type": "code",
      "execution_count": 242,
      "metadata": {
        "id": "nM2LkWyXPAiX"
      },
      "outputs": [],
      "source": [
        "top_matches = pc_index.query(\n",
        "  vector=raw_query_embedding.tolist(),\n",
        "  top_k=50,\n",
        "  include_metadata=True,\n",
        "  namespace=namespace,\n",
        "  filter=filter_options\n",
        "  )"
      ]
    },
    {
      "cell_type": "code",
      "execution_count": 243,
      "metadata": {},
      "outputs": [],
      "source": [
        "# sort top_matches by 'Market Cap'\n",
        "def get_market_cap(market_cap):\n",
        "  return float(market_cap if not market_cap == 'Information not available' else 0 )\n",
        "\n",
        "top_matches['matches'].sort(key=lambda x: get_market_cap(x['metadata']['Market Cap']), reverse=True)"
      ]
    },
    {
      "cell_type": "code",
      "execution_count": 244,
      "metadata": {},
      "outputs": [
        {
          "name": "stdout",
          "output_type": "stream",
          "text": [
            "['TSLA', 'LAAOF', 'LI', 'RIVN', 'XPEV', 'VFS', 'POAHY', 'POAHF', 'NIO', 'NIOIF', 'LCID', 'ZK', 'FAURY', 'PSNYW', 'PSNY', 'PLUG', 'EVGO', 'DAN', 'FURCF', 'XCH', 'CHPT', 'NWTN', 'MPAA', 'ALLGF', 'NKLA', 'ELVA', 'KNDI', 'LEV', 'CVGI', 'FFIE', 'CENN', 'NAAS', 'XOS', 'GP', 'MULN', 'LOBO', 'AIEV', 'JZXN', 'PEV', 'ZAPP', 'AYRO', 'NXU', 'NVVE', 'ZKGCF', 'EGOXF', 'ZEVY', 'EVGOW', 'VFSWW', 'NVVEW', 'NWTNW']\n",
            "TSLA - 0.569392085 - 1186085076992.0 - Tesla, Inc. designs, develops, manufactures, leases, and sells electric vehicles, and energy generation and storage systems in the United States, China, and internationally. The company operates in two segments, Automotive, and Energy Generation and Storage. The Automotive segment offers electric vehicles, as well as sells automotive regulatory credits; and non-warranty after-sales vehicle, used vehicles, body shop and parts, supercharging, retail merchandise, and vehicle insurance services. This segment also provides sedans and sport utility vehicles through direct and used vehicle sales, a network of Tesla Superchargers, and in-app upgrades; purchase financing and leasing services; services for electric vehicles through its company-owned service locations and Tesla mobile service technicians; and vehicle limited warranties and extended service plans. The Energy Generation and Storage segment engages in the design, manufacture, installation, sale, and leasing of solar energy generation and energy storage products, and related services to residential, commercial, and industrial customers and utilities through its website, stores, and galleries, as well as through a network of channel partners; and provision of service and repairs to its energy product customers, including under warranty, as well as various financing options to its solar customers. The company was formerly known as Tesla Motors, Inc. and changed its name to Tesla, Inc. in February 2017. Tesla, Inc. was incorporated in 2003 and is headquartered in Austin, Texas.\n",
            "LAAOF - 0.613890171 - 27208683520.0 - Li Auto Inc. operates in the energy vehicle market in the People's Republic of China. It designs, develops, manufactures, and sells premium smart electric vehicles. The company's product line comprises MPVs and sport utility vehicles. It offers sales and after sales management, and technology development and corporate management services, as well as purchases manufacturing equipment. The company offers its products through online and offline channels. The company was formerly known as Leading Ideal Inc. and changed its name to Li Auto Inc. in July 2020. Li Auto Inc. was founded in 2015 and is headquartered in Beijing, the People's Republic of China.\n",
            "LI - 0.613890171 - 23951417344.0 - Li Auto Inc. operates in the energy vehicle market in the People's Republic of China. It designs, develops, manufactures, and sells premium smart electric vehicles. The company's product line comprises MPVs and sport utility vehicles. It offers sales and after sales management, and technology development and corporate management services, as well as purchases manufacturing equipment. The company offers its products through online and offline channels. The company was formerly known as Leading Ideal Inc. and changed its name to Li Auto Inc. in July 2020. Li Auto Inc. was founded in 2015 and is headquartered in Beijing, the People's Republic of China.\n",
            "RIVN - 0.520995 - 12498569216.0 - Rivian Automotive, Inc., together with its subsidiaries, designs, develops, manufactures, and sells electric vehicles and accessories. The company offers consumer vehicles, including a two-row, five-passenger pickup truck under the R1T brand, a three-row, seven-passenger sport utility vehicle under the R1S name. It provides consumer services, such as digital financing and leasing, telematics-based insurance, vehicle maintenance and repair services, software services, and charging solutions. In addition, the company designs, develops, manufactures, and operates the Rivian Adventure Network Direct Current fast chargers, and offers access to Combined Charging Standard, as well as FleetOS, a proprietary, end-to-end centralized fleet management subscription platform. Further, it offers Rivian Commercial Van platform for Electric Delivery Van with collaboration with Amazon.com, Inc. The company sells its products directly to customers in the consumer and commercial markets. Rivian Automotive, Inc. was founded in 2009 and is based in Irvine, California.\n",
            "XPEV - 0.614746511 - 11945189376.0 - XPeng Inc. designs, develops, manufactures, and markets smart electric vehicles (EVs) in the People's Republic of China. It offers SUVs under the G3, G3i, and G9 names; four-door sports sedans under the P7 and P7i names; and family sedans under the P5 name. The company also provides sales contracts, super charging, maintenance, technical support, auto financing, insurance, technology support, ride-hailing, automotive loan referral, and other services, as well as vehicle leasing and insurance agency services. In addition, it offers advanced driver-assistance system technology and in-car intelligent operating system; and vehicle systems comprising powertrains, and the electrical and electronic architecture. XPeng Inc. was founded in 2015 and is headquartered in Guangzhou, the People's Republic of China.\n",
            "VFS - 0.552262127 - 11225760768.0 - VinFast Auto Ltd. engages in the design and manufacture of electric vehicles (EV), e-scooters, and e-buses in Vietnam, Canada, and the United States. The company operates through three segments: Automobiles, E-scooter, and Spare Parts & Aftermarket Services. The Automobiles segment offers design, development, manufacturing, and sale of cars and electric buses, and related battery lease and battery charging services for electric cars and buses. The E-scooter segment provides design, development, manufacturing, and sales of e-scooters, and related battery lease and battery charging service for e-scooters. The Spare Parts, and Aftermarket Services segment engages in sale of spare parts and aftermarket services for automobiles and e-scooters. VinFast Auto Ltd. is based in Hai Phong City, Vietnam. VinFast Auto Ltd. is a subsidiary of Vingroup Joint Stock Company.\n",
            "POAHY - 0.517000377 - 11013532672.0 - Porsche Automobil Holding SE, through its subsidiaries, operates as an automobile manufacturer worldwide. It operates in two segments, Core Investments and Portfolio Investments. The company is involved in investments in the areas of mobility and industrial technology. It offers its products under the Volkswagen, Audi, SEAT, KODA, Bentley, Lamborghini, and Porsche brand names. The company was formerly known as Dr. Ing. h.c. F. Porsche Aktiengesellschaft and changed its name to Porsche Automobil Holding SE in November 2007. Porsche Automobil Holding SE was incorporated in 2007 and is headquartered in Stuttgart, Germany.\n",
            "POAHF - 0.517000377 - 10822256640.0 - Porsche Automobil Holding SE, through its subsidiaries, operates as an automobile manufacturer worldwide. It operates in two segments, Core Investments and Portfolio Investments. The company is involved in investments in the areas of mobility and industrial technology. It offers its products under the Volkswagen, Audi, SEAT, KODA, Bentley, Lamborghini, and Porsche brand names. The company was formerly known as Dr. Ing. h.c. F. Porsche Aktiengesellschaft and changed its name to Porsche Automobil Holding SE in November 2007. Porsche Automobil Holding SE was incorporated in 2007 and is headquartered in Stuttgart, Germany.\n",
            "NIO - 0.568325043 - 9964423168.0 - NIO Inc. designs, develops, manufactures, and sells smart electric vehicles in China. It offers five and six-seater electric SUVs, as well as smart electric sedans. The company also offers power solutions, including Power Home, a home charging solution; Power Swap, a battery swapping service; Power Charger and Destination Charger; Power Mobile, a mobile charging service through charging vans; Power Map, an application that provides access to a network of public chargers and their real-time information; and One Click for Power valet service. In addition, it provides repair, maintenance, and bodywork services through its NIO service centers and authorized third-party service centers; statutory and third-party liability insurance, and vehicle damage insurance through third-party insurers; repair and routine maintenance; roadside assistance; courtesy vehicle services; data packages; and auto financing and financial leasing services. Further, the company involved in the provision of energy and service packages to its users; design and technology development activities; manufacture of e-powertrains, battery packs, and components; and sales and after sales management activities. Additionally, it offers NIO Certified, a used vehicle inspection, evaluation, acquisition, and sales service. The company was formerly known as NextEV Inc. and changed its name to NIO Inc. in July 2017. NIO Inc. was incorporated in 2014 and is headquartered in Shanghai, China.\n",
            "NIOIF - 0.568325043 - 9964411904.0 - NIO Inc. designs, develops, manufactures, and sells smart electric vehicles in China. It offers five and six-seater electric SUVs, as well as smart electric sedans. The company also offers power solutions, including Power Home, a home charging solution; Power Swap, a battery swapping service; Power Charger and Destination Charger; Power Mobile, a mobile charging service through charging vans; Power Map, an application that provides access to a network of public chargers and their real-time information; and One Click for Power valet service. In addition, it provides repair, maintenance, and bodywork services through its NIO service centers and authorized third-party service centers; statutory and third-party liability insurance, and vehicle damage insurance through third-party insurers; repair and routine maintenance; roadside assistance; courtesy vehicle services; data packages; and auto financing and financial leasing services. Further, the company involved in the provision of energy and service packages to its users; design and technology development activities; manufacture of e-powertrains, battery packs, and components; and sales and after sales management activities. Additionally, it offers NIO Certified, a used vehicle inspection, evaluation, acquisition, and sales service. The company was formerly known as NextEV Inc. and changed its name to NIO Inc. in July 2017. NIO Inc. was incorporated in 2014 and is headquartered in Shanghai, China.\n",
            "LCID - 0.553800523 - 6294431744.0 - Lucid Group, Inc. a technology company, designs, engineers, manufactures, and sells electric vehicles (EV), EV powertrains, and battery systems. It also designs and develops proprietary software in-house for Lucid vehicles. The company sells vehicles directly to consumers through its retail sales network and direct online sales, including Lucid Financial Services. Lucid Group, Inc. was founded in 2007 and is headquartered in Newark, California. Lucid Group, Inc. operates as a subsidiary of Ayar Third Investment Company.\n",
            "ZK - 0.569668591 - 6231714304.0 - ZEEKR Intelligent Technology Holding Limited, an investment holding company, engages in the research and development, production, commercialization, and sale of the electric vehicles and batteries. It offers battery electric passenger vehicles (BEVs) and SUVs. The company also produces and sells electric powertrain and battery packs for electric vehicles, such as motors and electric control systems; and provides automotive related research and development services. It operates in China, Europe, and internationally. The company was founded in 2017 and is based in Ningbo, China. ZEEKR Intelligent Technology Holding Limited operates as a subsidiary of Geely Automobile Holdings Limited.\n",
            "FAURY - 0.547251225 - 3856464896.0 - Forvia SE, together with its subsidiaries, manufactures and sells automotive technology solutions in France, Germany, other European countries, the Americas, Asia, and internationally. It operates through Seating, Clean Mobility, Electronics, Lighting, and Lifecycle Solutions segments. The Seating segment designs and manufactures vehicle seats, seating frames, and comfort solutions, as well as adjustment mechanisms. The Clean Mobility segment designs and manufactures exhaust systems, solutions for fuel cell electric vehicles, and aftertreatment solutions for commercial vehicles. The Electronics segment designs and manufactures display technologies, driver assistance systems, and cockpit electronics, including HELLA electronics and Clarion electronics The Lighting segment designs and manufactures lighting technologies. The Lifecycle Solutions segment provides solutions extending the vehicle lifecycle, as well as workshop equipment and special original equipment. The company also offers actuators, and electrification and energy management solutions as well as zero-emissions solutions. The company was formerly known as Faurecia S.E. and changed its name to Forvia SE in June 2023. Forvia SE was incorporated in 1929 and is headquartered in Nanterre, France.\n",
            "PSNYW - 0.570101857 - 2258077440.0 - Polestar Automotive Holding UK PLC manufactures and sells premium electric vehicles. The company was founded in 2017 and is headquartered in Gothenburg, Sweden.\n",
            "PSNY - 0.570101857 - 2258074624.0 - Polestar Automotive Holding UK PLC manufactures and sells premium electric vehicles. The company was founded in 2017 and is headquartered in Gothenburg, Sweden.\n",
            "PLUG - 0.54485184 - 2232432640.0 - Plug Power Inc. develops hydrogen and fuel cell product solutions in North America, Europe, Asia, and internationally. The company offers GenDrive, a hydrogen-fueled proton exchange membrane (PEM) fuel cell system that provides power to material handling electric vehicles; GenSure, a stationary fuel cell solution that offers modular PEM fuel cell power to support the backup and grid-support power requirements of the telecommunications, transportation, and utility sectors; ProGen, a fuel cell stack and engine technology used in mobility and stationary fuel cell systems, and as engines in electric delivery vans; GenFuel, a liquid hydrogen fueling delivery, generation, storage, and dispensing system; GenCare, an ongoing Internet of Things-based maintenance and on-site service program for GenDrive fuel cell systems, GenSure fuel cell systems, GenFuel hydrogen storage and dispensing products, and ProGen fuel cell engines; and GenKey, an integrated turn-key solution for transitioning to fuel cell power. It also provides electrolyzers, a hydrogen generator for clean hydrogen production; liquefaction systems that provides liquid hydrogen to customers; cryogenic equipment for the distribution of liquified hydrogen, oxygen, argon, nitrogen and other cryogenic gases, including trailers and mobile storage equipment; and liquid hydrogen, an alternative fuel to fossil-based energy. The company sells its products through a direct product sales force, original equipment manufacturers, and dealer networks. Plug Power Inc. was incorporated in 1997 and is headquartered in Latham, New York.\n",
            "EVGO - 0.638845146 - 1861354240.0 - EVgo, Inc. owns and operates a direct current fast charging network for electric vehicles (EVs) in the United States. The company offers electricity directly to drivers, who access its publicly available networked chargers; original equipment manufacturer charging and related services; fleet and rideshare public charging services; and charging as a service and fleet dedicated charging services. It also provides ancillary services, such as customization of digital applications, charging data integration, loyalty programs, access to chargers behind parking lot or garage pay gates, microtargeted advertising, and charging reservations; and hardware, design, and construction services for charging sites, as well as ongoing operations, maintenance, and networking and software integration solutions through eXtend. In addition, it offers PlugShare such as data, research, and advertising services and equipment procurement and operational services. EVgo, Inc. was incorporated in 2010 and is headquartered in Los Angeles, California.EVgo, Inc. operates as  a subsidiary of EVgo Holdings LLC.\n",
            "DAN - 0.518717289 - 1780342144.0 - Dana Incorporated, together with its subsidiaries, provides power-conveyance and energy-management solutions for vehicles and machinery in North America, Europe, South America, and the Asia Pacific. The company operates through four segments: Light Vehicle Drive Systems, Commercial Vehicle Drive and Motion Systems, Off-Highway Drive and Motion Systems, and Power Technologies. It offers drive systems, including axles, driveshafts, transmission, and wheel and track drives; motion systems, such as winches, slew drives, and hub drives; and electrodynamic technologies comprised of motors, inverters, software and control systems, battery-management systems, and fuel cell plates. The company also provides sealing solutions, such as gaskets, seals, cam covers, and oil pan modules; thermal-management technologies, including transmission and engine oil cooling, battery and electronics cooling, charge air cooling, and thermal-acoustical protective shielding; and digital solutions that include active and passive system controls, as well as descriptive and predictive analytics. It serves vehicle manufacturers in the global light vehicle, medium/heavy vehicle, and off-highway markets, as well as the stationary industrial market. The company was formerly known as Dana Holding Corporation and changed its name to Dana Incorporated in August 2016. Dana Incorporated was founded in 1904 and is headquartered in Maumee, Ohio.\n",
            "FURCF - 0.547251225 - 1546194560.0 - Forvia SE, together with its subsidiaries, manufactures and sells automotive technology solutions in France, Germany, other European countries, the Americas, Asia, and internationally. It operates through Seating, Clean Mobility, Electronics, Lighting, and Lifecycle Solutions segments. The Seating segment designs and manufactures vehicle seats, seating frames, and comfort solutions, as well as adjustment mechanisms. The Clean Mobility segment designs and manufactures exhaust systems, solutions for fuel cell electric vehicles, and aftertreatment solutions for commercial vehicles. The Electronics segment designs and manufactures display technologies, driver assistance systems, and cockpit electronics, including HELLA electronics and Clarion electronics The Lighting segment designs and manufactures lighting technologies. The Lifecycle Solutions segment provides solutions extending the vehicle lifecycle, as well as workshop equipment and special original equipment. The company also offers actuators, and electrification and energy management solutions as well as zero-emissions solutions. The company was formerly known as Faurecia S.E. and changed its name to Forvia SE in June 2023. Forvia SE was incorporated in 1929 and is headquartered in Nanterre, France.\n",
            "XCH - 0.547139049 - 1145630464.0 - XCHG Limited, together with its subsidiaries, engages in designing, manufacturing, and selling of electric vehicle (EV) chargers under the X-Charge brand name in Europe, the People's Republic of China, the United States, and internationally. The company offers direct current (DC) fast chargers under the C6 series and C7 series; and battery-integrated DC fast chargers under the Net Zero series, as well as software system upgrades and hardware maintenance services. It serves EV manufacturers, energy players, and charge point operators. XCHG Limited was founded in 2015 and is headquartered in Beijing, the People's Republic of China.\n",
            "CHPT - 0.55226928 - 582634368.0 - ChargePoint Holdings, Inc., together with its subsidiaries, provides electric vehicle (EV) charging networks and charging solutions in the North America and Europe. The company serves commercial, such as retail, workplace, hospitality, parking, recreation, municipal, education, and highway fast charge; fleet, which include delivery, take home, logistics, motor pool, transit, and shared mobility; and residential including single family homes and multi-family apartments and condominiums customers. ChargePoint Holdings, Inc. was founded in 2007 and is headquartered in Campbell, California.\n",
            "NWTN - 0.529931307 - 304788448.0 - NWTN Inc. operates as a smart passenger vehicle company, provides passenger-centric mobility and green energy solutions in the United States, the United Arab Emirates, and Mainland China. The company develops electric vehicles, including Supersport coupe; and smart passenger vehicles, such as MUSE and ADA. It integrates design, life-style personalization, IoT connectivity, autonomous driving technology, and green energy eco-systems for future mobility solutions. The company also involved in the wholesale and retail of vehicles; and provision of business management, operations, commercialization, as well as design and technology development services. NWTN Inc. was founded in 2016 and is headquartered in Dubai, the United Arab Emirates.\n",
            "MPAA - 0.574761152 - 154447008.0 - Motorcar Parts of America, Inc. manufactures, remanufactures, and distributes heavy-duty truck, industrial, marine, and agricultural application replacement parts in the United States. The company offers rotating electrical products, including alternators and starters; wheel hub assemblies and bearings; and brake-related products comprising brake calipers, brake boosters, brake rotors, brake pads, and brake master cylinders. It also offers turbochargers; test solutions and diagnostic equipment for the pre- and post-production of electric vehicles; combustion engine vehicles; and software emulation of power systems applications for the electrification of forms of transportation. In addition, it offers heavy duty parts, including non-discretionary automotive aftermarket replacement hard parts for heavy-duty truck, industrial, marine, and agricultural applications. It sells its products to automotive retail chain stores and warehouse distributors, as well as various automobile manufacturers for their aftermarket programs and warranty replacement programs in North America. The company was incorporated in 1968 and is based in Torrance, California.\n",
            "ALLGF - 0.568358243 - 142795216.0 - Allego N.V. operates as an electric vehicle (EV) charging company. The company offers charging solutions for EV cars, buses, and truck drivers. It owns and operates charging ports; provides EV-related services, including site design and technical layout, authorization and billing, and operations and maintenance to fleets and corporations, charging hosts, OEMs, and municipalities. The company also has a charging network with renewable energy and charging solutions for business customers, including leading retail and auto brands. In addition, it engages in sale and installation of charging equipment; supply of electricity to owners and drivers of electric vehicles; and operation and maintenance of charging equipment; as well as provision of consulting services. Further, the company offers Allego EV Cloud, which includes software solutions, such as charging authorization and billing, smart charging and load balancing, analysis, and customer support. The company was founded in 2013 and is based in Arnhem, the Netherlands, Allego N.V. operates as subsidiary of Madeleine Charging B.V.\n",
            "NKLA - 0.593393922 - 100430712.0 - Nikola Corporation operates as a technology innovator and integrator that develops energy and transportation solutions in the United States and internationally. The company operates in truck and energy units. It commercializes battery electric vehicles (BEV) and hydrogen fuel cell electric vehicles (FCEV) to the trucking sector. In addition, it develops a network of hydrogen fueling stations; and offers BEV charging solutions for its FCEV and BEV customers, as well as other third-party customers. Further, its products include Nikola Tre Class 8 truck and the Nikola's Class 8 FCEV. Additionally, the company assembles, integrates, and commissions its vehicles in collaboration with its business partners and suppliers. Nikola Corporation founded in 2015 and is headquartered in Phoenix, Arizona.\n",
            "ELVA - 0.577174962 - 94381064.0 - Electrovaya Inc. engages in the design, development, manufacture, and sale of lithium-ion batteries, battery management systems, and battery-related products for energy storage, clean electric transportation, and other specialized applications in North America. It offers lithium-ion batteries and systems for materials handling electric vehicles, including forklifts and automated guided vehicles, as well as battery chargers to charge the batteries; electromotive power products for electric trucks, electric buses, and other transportation applications; industrial products for energy storage; and power solutions, such as competencies in building systems for third parties. The company was formerly known as Electrofuel Inc. and changed its name to Electrovaya Inc. in March 2002. Electrovaya Inc. was incorporated in 1996 and is headquartered in Mississauga, Canada.\n",
            "KNDI - 0.574250221 - 92957760.0 - Kandi Technologies Group, Inc. engages in designing, developing, manufacturing, and commercializing electric vehicle (EV) products and parts in the People's Republic of China and the United States. It offers also off-road vehicles, including all-terrain vehicles, utility vehicles, go-karts, electric scooters, and electric self-balancing scooters, as well as related parts; and battery packs and smart battery swap system. The company was formerly known as Kandi Technologies, Corp. and changed its name to Kandi Technologies Group, Inc. in December 2012. Kandi Technologies Group, Inc. was founded in 2002 and is headquartered in Jinhua, the People's Republic of China.\n",
            "LEV - 0.545773745 - 88446032.0 - The Lion Electric Company designs, develops, manufactures, and distributes purpose-built all-electric medium and heavy-duty urban vehicles in North America. The company's products include battery systems, chassis, bus bodies, and truck cabins. It distributes truck and bus parts, as well as accessories. The company was incorporated in 2008 and is based in Saint-Jérôme, Canada.\n",
            "CVGI - 0.523206532 - 79691768.0 - Commercial Vehicle Group, Inc., together with its subsidiaries, designs, manufactures, assembles, and sells systems, assemblies, and components to commercial and electric vehicle, and industrial automation markets in North America, Europe, and the Asia-Pacific regions. The company operates in four segments: Vehicle Solutions, Electrical Systems, Aftermarket & Accessories, and Industrial Automation. It offers vehicle seats and seating systems, such as static, mechanical, and air suspension seats, as well as office seating products under KAB Seating, National Seating, Bostrom Seating, and Stratos brands. The company also provides thermoformed, injection molded, reaction injection molded, and decorated/hydrographic finished products; vinyl or cloth-covered appliqués; instrument panels; plastics decorating and finishing products; cab structures; and cab interiors, including armrests, grab handles, storage systems, floor coverings and mats, sleeper bunks, headliners, wall panels, and privacy curtains under the AdvancTEK brand. In addition, it offers high and low voltage electrical wire harness assemblies function as the primary electric current carrying devices used in providing electrical interconnections for gauges, lights, control functions, power circuits, powertrain and transmission sensors, emissions systems, and other electronic applications on commercial and other vehicles; and panel assemblies. Further, the company provides mirrors, wipers, and wiper systems under Bostrom, Moto Mirror, Sprague Devices, and RoadWatch brands; integrated and electro-mechanical assemblies, and cabinets. It offers its products and systems for the truck, power sports, bus, construction, mining, automotive, agricultural, mining, rail, marine, power generation, e-commerce, warehouse integration, transportation, military/defense, industrial, municipal, off-road recreational, and specialty vehicle markets. The company was incorporated in 2000 and is headquartered in New Albany, Ohio.\n",
            "FFIE - 0.591774344 - 55305040.0 - Faraday Future Intelligent Electric Inc. engages in the design, development, manufacture, engineering, sale, and distribution of electric vehicles and related products in the United States. The company's technology comprises of variable platform architecture, propulsion system, and Internet, autonomous driving, and intelligence system. Faraday Future Intelligent Electric Inc. was incorporated in 2014 and is headquartered in Gardena, California.\n",
            "CENN - 0.526959956 - 37039920.0 - Cenntro Inc. engages in the design, development, and manufacture of electric light and medium-duty commercial vehicles in Europe, Asia, and the United States. Its purpose-built electric commercial vehicles are designed to serve various fleet and municipal organizations in support of city services, last-mile delivery, and other commercial applications. The company sells its products under the Metro, Logistar, Logimax, Avantier, Teemak, and Antric One names. Cenntro Inc. was founded in 2013 and is headquartered in Freehold, New Jersey. Cenntro Inc. is a subsidiary of Cenntro Electric Group Limited.\n",
            "NAAS - 0.569585145 - 35604680.0 - NaaS Technology Inc. provides electric vehicle (EV) charging services in China. The company offers integrated online EV charging solutions to charging stations, including mobility connectivity services through Kuaidian; SaaS products, such as traffic support and management, marketing, payment, chargers' management, order management, load management, and membership management. It also provides offline EV charging solutions comprising site selection, hardware procurement, engineering, procurement, and construction, station maintenance, energy storage, and customer support services. In addition, the company offers electricity procurement services to charging stations, as well as other amenities and ancillary services, such as vending machines, massage chairs, and car wash tunnels. It serves charger manufacturers, EV OEMS, and end-users. NaaS Technology Inc. is headquartered in Beijing, China.\n",
            "XOS - 0.60802418 - 31153840.0 - Xos, Inc. designs, manufactures, and sells battery-electric commercial vehicles. The company provides class 5-6 medium duty rolling chassis, such as commercial stepvans and armored trucks; class 7-8 heavy duty chassis; and Xos product development. It offers Xos provides mix-use powertrain solutions for off-highway, industrial and other commercial equipment, and specialty vehicles, such as school buses, medical and dental clinics, blood donation vehicles, and mobile command vehicles. In addition, the company offers energy solutions, a comprehensive charging infrastructure business that offers mobile and stationary multi-application chargers, mobile energy storage, and turnkey energy infrastructure services to accelerate client transitions to electric fleets; Xos Hub, a rapid-deployment mobile charger designed to expedite fleet transitions to electric vehicles; and Xosphere, a platform that interconnects vehicle, maintenance, charging, and service data to improve overall customer experience. Further, it offers X-Pack, a proprietary battery pack technology for last-mile commercial use cases; X-Platform foundation of Xos vehicle products; and vehicle control software, which include powertrain controls, body controls, and instrument cluster and infotainment. Xos, Inc. was founded in 2020 and is headquartered in Los Angeles, California.\n",
            "GP - 0.604987741 - 27308852.0 - GreenPower Motor Company Inc. designs, manufactures, and distributes electric vehicles for commercial markets in the United States and Canada. The company offers commercial vehicles for delivery, public transit, schools, vanpools, micro-transit, shuttles, and other; and passenger, student, and cargo transportation. It leases its vehicles to customers. The company was founded in 2010 and is headquartered in Vancouver, Canada.\n",
            "MULN - 0.623128951 - 22826028.0 - Mullen Automotive, Inc., an electric vehicle company, manufactures, sells, and distributes electric vehicles. Its products include passenger electric vehicles and commercial vehicles; and provides solid-state polymer battery technology. The company is headquartered in Brea, California.\n",
            "LOBO - 0.53156215 - 17251626.0 - Lobo EV Technologies Ltd. designs, develops, manufactures, and sells e-bicycles, e-mopeds, e-tricycles, and electric off-highway four-wheeled shuttles in the People's Republic of China. The company operates through two segments, Electric Vehicles and Accessories Sales, and Software Royalties and Development and Design Services. It offers two-wheeled electric vehicles, such as e-bicycles and e-mopeds; three-wheeled electric vehicles comprising e-tricycles; and electric off-highway four-wheeled shuttles, including golf carts and mobility scooters for the elderly and disabled persons. The company provides automobile information and entertainment software development and design services for automotive electronics, such as multimedia interactive systems, multifunctional rear-view mirrors, and dash-cams. The company was formerly known as LOBO AI Technologies Ltd. and changed its name to Lobo EV Technologies Ltd. in December 2021. Lobo EV Technologies Ltd. was incorporated in 2021 and is headquartered in Wuxi, China. Lobo EV Technologies Ltd. operates as a subsidiary of Wealthford Capital Ltd.\n",
            "AIEV - 0.569402158 - 16500720.0 - Thunder Power Holdings, Inc. develops and manufactures electric vehicles. It offers the Coupe, Compact City Car, Long-Range Sedan, and Long-Range SUV. The company is based in Wilmington, Delaware.\n",
            "JZXN - 0.603041172 - 13309351.0 - Jiuzi Holdings, Inc., through its subsidiary, Zhejiang Jiuzi New Energy Vehicles Co., Ltd., franchises and operates retail stores under the Jiuzi brand that sell new energy vehicles, plug-in electric vehicles, and related components and parts in the People's Republic of China. It provides corporate investment consulting services. The company also engages in new energy vehicle retail, new energy vehicle component sales, new energy vehicle battery sales, vehicle audio equipment and electronics sales, vehicle ornament sales, technology service and development, marketing planning, vehicle rentals, etc. In addition, it is involved in the research and development of automotive components and part and technical service; sales of electrical accessories for new energy vehicles; sales of charging/battery swap infrastructure for new energy vehicles; sales of electricity chargers, and sales of automotive spare parts and accessories, as well as in the management services of supply chain, automobiles sales, and whole vehicle sales of new energy cars. The company was founded in 2017 and is based in Hangzhou, the People's Republic of China.\n",
            "PEV - 0.536709428 - 11761392.0 - Phoenix Motor Inc. designs, develops, manufactures, assembles, and integrates electric drive systems, and light and medium duty electric vehicles in the United States and internationally. It provides chargers, electric forklifts, shuttle buses, Type A school buses, utility and service trucks, flatbed and cargo trucks, and walk-in vans. The company offers its products under the Phoenix Motorcars and EdisonFuture brand names. It also engages in the sale and leasing dealership of material handling products including electric lithium-ion forklifts and pallet jacks. It serves medium-duty fleet customers, including utilities, cities, municipalities, transit agencies, airports, hotels, seaports, school districts, parking companies, universities, and corporate campuses. The company was founded in 2003 and is headquartered in Anaheim, California.\n",
            "ZAPP - 0.615935504 - 6278919.0 - Zapp Electric Vehicles Group Limited designs, manufactures, and sells electric vehicles. It offers i300 electric urban motorcycles. The company was founded in 2017 and is based in Bangkok, Thailand.\n",
            "AYRO - 0.557786882 - 4973543.0 - Ayro, Inc. designs, manufactures, and sells electric vehicles for closed campus mobility, urban and community transport, local on-demand and last mile delivery, and government use in the United States. It provides four-wheeled purpose-built electric vehicles for universities, business and medical campuses, last mile delivery services, and food service providers. The company also offers vehicles as an alternative to internal combustion engine vehicles for light duty uses, including low-speed logistics, maintenance, and cargo services; and designs and develops AYRO Vanish fleet of low speed electric vehicle. The company was formerly known as AEV Technologies, Inc. Ayro, Inc. was founded in 2017 and is headquartered in Round Rock, Texas.\n",
            "NXU - 0.533584476 - 3911195.0 - Nxu, Inc, a technology company, engages in the developing of next-generation electric vehicle charging, battery, and vehicle technologies for mobility customers in the United States. The company offers NxuOne, a charging technology provides repeatable, consistent power delivery, designed to meet the needs of electric vehicles; Nxu battery cell and packs designed to leverage an in-house developed NMC-811 chemistry, combined with proprietary mechanical construction to improve thermal management and reduce electrical resistance. It also provides Nxu EV platform, a modular vehicle system or electric skateboard, which provides technology, software, and mobility technology for vehicle by third parties; and Nxu pickup truck, a flagship vehicle and 100% electric full-sized truck. Nxu, Inc. was incorporated in 2016 and is headquartered in Mesa, Arizona.\n",
            "NVVE - 0.542365313 - 2939828.0 - Nuvve Holding Corp., a green energy technology company, provides commercial vehicle-to-grid (V2G) technology platform in the United States, the United Kingdom, France, and Denmark. The company offers Grid Integrated Vehicle platform, which enables electric vehicle (EV) batteries to store and resell unused energy back to the local electric grid and provide other grid services, as well as allows EV owners to meet the energy demands of individual vehicles and entire fleets. Its V2G technology also links EV batteries into a virtual power plant that sells excess power to utility companies or utilizes saved power to reduce building energy peak consumption. In addition, the company offers networked charging stations, infrastructure, software, professional services, support, monitoring, and parts and labor warranties required to run electric vehicle fleets. It serves its products to owners/operators of light duty fleets, heavy duty fleets, automotive manufacturers, charge point operators, and strategic partners. The company was founded in 2010 and is headquartered in San Diego, California.\n",
            "ZKGCF - 0.525629699 - 522000.0 - ZKGC New Energy Limited builds, owns, operates, and manages electric vehicle charging stations in China. It also provides EV charging equipment and networked EV charging services; and cloud SAAS platform that enable property owners, managers, parking companies, and state and municipal entities to remote monitoring and management of EV charging stations. ZKGC New Energy Limited was founded in 2020 and is based in Chengmai, China.\n",
            "EGOXF - 0.520719051 - 9439.0 - Next.e.GO N.V. designs, manufactures, and sells electric vehicles. The company is based in Aachen, Germany. Next.e.GO N.V. (NasdaqGM : EGOX) operates as a subsidiary of Nd Industrial Investments B.V..\n",
            "ZEVY - 0.562548876 - 1978.0 - Lightning eMotors, Inc. designs, manufactures, and sells zero-emission commercial fleet vehicles and powertrains to commercial fleets, large enterprises, original equipment manufacturers, and governments in the United States. It offers zero-emission class 3 to 7 commercial electric and fuel cell vehicles. The company's vehicles comprise cargo and passenger vehicles, school buses, ambulances, shuttle buses, work trucks, transit buses, and motorcoaches. It also offers charging systems and charging infrastructure solutions. The company was founded in 2008 and is based in Loveland, Colorado.\n",
            "EVGOW - 0.638845146 - Information not available - EVgo, Inc. owns and operates a direct current fast charging network for electric vehicles (EVs) in the United States. The company offers electricity directly to drivers, who access its publicly available networked chargers; original equipment manufacturer charging and related services; fleet and rideshare public charging services; and charging as a service and fleet dedicated charging services. It also provides ancillary services, such as customization of digital applications, charging data integration, loyalty programs, access to chargers behind parking lot or garage pay gates, microtargeted advertising, and charging reservations; and hardware, design, and construction services for charging sites, as well as ongoing operations, maintenance, and networking and software integration solutions through eXtend. In addition, it offers PlugShare such as data, research, and advertising services and equipment procurement and operational services. EVgo, Inc. was incorporated in 2010 and is headquartered in Los Angeles, California.EVgo, Inc. operates as  a subsidiary of EVgo Holdings LLC.\n",
            "VFSWW - 0.552262127 - Information not available - VinFast Auto Ltd. engages in the design and manufacture of electric vehicles (EV), e-scooters, and e-buses in Vietnam, Canada, and the United States. The company operates through three segments: Automobiles, E-scooter, and Spare Parts & Aftermarket Services. The Automobiles segment offers design, development, manufacturing, and sale of cars and electric buses, and related battery lease and battery charging services for electric cars and buses. The E-scooter segment provides design, development, manufacturing, and sales of e-scooters, and related battery lease and battery charging service for e-scooters. The Spare Parts, and Aftermarket Services segment engages in sale of spare parts and aftermarket services for automobiles and e-scooters. VinFast Auto Ltd. is based in Hai Phong City, Vietnam. VinFast Auto Ltd. is a subsidiary of Vingroup Joint Stock Company.\n",
            "NVVEW - 0.542365134 - Information not available - Nuvve Holding Corp., a green energy technology company, provides commercial vehicle-to-grid (V2G) technology platform in the United States, the United Kingdom, France, and Denmark. The company offers Grid Integrated Vehicle platform, which enables electric vehicle (EV) batteries to store and resell unused energy back to the local electric grid and provide other grid services, as well as allows EV owners to meet the energy demands of individual vehicles and entire fleets. Its V2G technology also links EV batteries into a virtual power plant that sells excess power to utility companies or utilizes saved power to reduce building energy peak consumption. In addition, the company offers networked charging stations, infrastructure, software, professional services, support, monitoring, and parts and labor warranties required to run electric vehicle fleets. It serves its products to owners/operators of light duty fleets, heavy duty fleets, automotive manufacturers, charge point operators, and strategic partners. The company was founded in 2010 and is headquartered in San Diego, California.\n",
            "NWTNW - 0.529931724 - Information not available - NWTN Inc. operates as a smart passenger vehicle company, provides passenger-centric mobility and green energy solutions in the United States, the United Arab Emirates, and Mainland China. The company develops electric vehicles, including Supersport coupe; and smart passenger vehicles, such as MUSE and ADA. It integrates design, life-style personalization, IoT connectivity, autonomous driving technology, and green energy eco-systems for future mobility solutions. The company also involved in the wholesale and retail of vehicles; and provision of business management, operations, commercialization, as well as design and technology development services. NWTN Inc. was founded in 2016 and is headquartered in Dubai, the United Arab Emirates.\n"
          ]
        }
      ],
      "source": [
        "print([x.id for x in top_matches['matches']])\n",
        "for match in top_matches['matches']:\n",
        "    print(f\"{match['id']} - {match['score']} - {match['metadata']['Market Cap']} - {match['metadata']['Business Summary']}\")"
      ]
    },
    {
      "cell_type": "code",
      "execution_count": 213,
      "metadata": {
        "id": "_U45gYqHPFdy"
      },
      "outputs": [],
      "source": [
        "contexts = [item['metadata']['Business Summary'] for item in top_matches['matches'][:6]]"
      ]
    },
    {
      "cell_type": "code",
      "execution_count": 214,
      "metadata": {},
      "outputs": [
        {
          "name": "stdout",
          "output_type": "stream",
          "text": [
            "NVIDIA Corporation provides graphics and compute and networking solutions in the United States, Taiwan, China, Hong Kong, and internationally. The Graphics segment offers GeForce GPUs for gaming and PCs, the GeForce NOW game streaming service and related infrastructure, and solutions for gaming platforms; Quadro/NVIDIA RTX GPUs for enterprise workstation graphics; virtual GPU or vGPU software for cloud-based visual and virtual computing; automotive platforms for infotainment systems; and Omniverse software for building and operating metaverse and 3D internet applications. The Compute & Networking segment comprises Data Center computing platforms and end-to-end networking platforms, including Quantum for InfiniBand and Spectrum for Ethernet; NVIDIA DRIVE automated-driving platform and automotive development agreements; Jetson robotics and other embedded platforms; NVIDIA AI Enterprise and other software; and DGX Cloud software and services. The company's products are used in gaming, professional visualization, data center, and automotive markets. It sells its products to original equipment manufacturers, original device manufacturers, system integrators and distributors, independent software vendors, cloud service providers, consumer internet companies, add-in board manufacturers, distributors, automotive manufacturers and tier-1 automotive suppliers, and other ecosystem participants. NVIDIA Corporation was incorporated in 1993 and is headquartered in Santa Clara, California.\n",
            "\n",
            "-------\n",
            "\n",
            "Taiwan Semiconductor Manufacturing Company Limited, together with its subsidiaries, manufactures, packages, tests, and sells integrated circuits and other semiconductor devices in Taiwan, China, Europe, the Middle East, Africa, Japan, the United States, and internationally. It provides a range of wafer fabrication processes, including processes to manufacture complementary metal- oxide-semiconductor (CMOS) logic, mixed-signal, radio frequency, embedded memory, bipolar CMOS mixed-signal, and others. The company also offers customer and engineering support services; manufactures masks; and invests in technology start-up companies; researches, designs, develops, manufactures, packages, tests, and sells color filters; and provides investment services. Its products are used in high performance computing, smartphones, Internet of things, automotive, and digital consumer electronics. The company was incorporated in 1987 and is headquartered in Hsinchu City, Taiwan.\n",
            "\n",
            "-------\n",
            "\n",
            "Broadcom Inc. designs, develops, and supplies various semiconductor devices with a focus on complex digital and mixed signal complementary metal oxide semiconductor based devices and analog III-V based products worldwide. The company operates in two segments, Semiconductor Solutions and Infrastructure Software. It provides set-top box system-on-chips (SoCs); cable, digital subscriber line, and passive optical networking central office/consumer premise equipment SoCs; wireless local area network access point SoCs; Ethernet switching and routing custom silicon solutions; serializer/deserializer application specific integrated circuits; optical and copper, and physical layer devices; and fiber optic components and RF semiconductor devices. The company also offers RF front end modules and filter; Wi-Fi, Bluetooth, and global positioning system/global navigation satellite system SoCs; custom touch controllers; inductive charging; attached small computer system interface, and redundant array of independent disks controllers and adapters; peripheral component interconnect express; fiber channel host bus adapters; read channel based SoCs; custom flash controllers; preamplifiers; optocouplers, industrial fiber optics, and motion control encoders and subsystems; light emitting diode, ethernet PHYs, switch ICs, and camera microcontrollers. Its products are used in various applications, including enterprise and data center networking, home connectivity, set-top boxes, broadband access, telecommunication equipment, smartphones and base stations, data center servers and storage systems, factory automation, power generation and alternative energy systems, and electronic displays. Broadcom Inc. was founded in 1961 and is headquartered in Palo Alto, California.\n",
            "\n",
            "-------\n",
            "\n",
            "Taiwan Semiconductor Manufacturing Company Limited, together with its subsidiaries, manufactures, packages, tests, and sells integrated circuits and other semiconductor devices in Taiwan, China, Europe, the Middle East, Africa, Japan, the United States, and internationally. It provides a range of wafer fabrication processes, including processes to manufacture complementary metal- oxide-semiconductor (CMOS) logic, mixed-signal, radio frequency, embedded memory, bipolar CMOS mixed-signal, and others. The company also offers customer and engineering support services; manufactures masks; and invests in technology start-up companies; researches, designs, develops, manufactures, packages, tests, and sells color filters; and provides investment services. Its products are used in high performance computing, smartphones, Internet of things, automotive, and digital consumer electronics. The company was incorporated in 1987 and is headquartered in Hsinchu City, Taiwan.\n",
            "\n",
            "-------\n",
            "\n",
            "Advanced Micro Devices, Inc. operates as a semiconductor company worldwide. It operates through Data Center, Client, Gaming, and Embedded segments. The company offers x86 microprocessors and graphics processing units (GPUs) as an accelerated processing unit, chipsets, data center, and professional GPUs; and embedded processors, and semi-custom system-on-chip (SoC) products, microprocessor and SoC development services and technology, data processing unites, field programmable gate arrays (FPGA), and adaptive SoC products. It provides processors under the AMD Ryzen, AMD Ryzen PRO, Ryzen Threadripper, Ryzen Threadripper PRO, AMD Athlon, AMD Athlon PRO, and AMD PRO A-Series brand names; graphics under the AMD Radeon graphics and AMD Embedded Radeon graphics; and professional graphics under the AMD Radeon Pro graphics brand name. In addition, the company offers data center graphics under the Radeon Instinct and Radeon PRO V-series brands, as well as servers under the AMD Instinct accelerators brand; server microprocessors under the AMD EPYC brands; low power solutions under the AMD Athlon, AMD Geode, AMD Ryzen, AMD EPYC, AMD R-Series, and G-Series brands; FPGA products under the Virtex-6, Virtex-7, Virtex UltraScale+, Kintex-7, Kintex UltraScale, Kintex UltraScale+, Artix-7, Artix UltraScale+, Spartan-6, and Spartan-7 brands; adaptive SOCs under the Zynq-7000, Zynq UltraScale+ MPSoC, Zynq UltraScale+ RFSoCs, Versal HBM, Versal Premium, Versal Prime, Versal AI Core, Versal AI Edge, Vitis, and Vivado brands; and compute and network acceleration board products under the Alveo brand. It serves original equipment and design manufacturers, public cloud service providers, system integrators, independent distributors, and add-in-board manufacturers through its direct sales force, and sales representatives. Advanced Micro Devices, Inc. was incorporated in 1969 and is headquartered in Santa Clara, California.\n",
            "\n",
            "-------\n",
            "\n",
            "Texas Instruments Incorporated designs, manufactures, and sells semiconductors to electronics designers and manufacturers in the United States and internationally. The company operates through Analog and Embedded Processing segments. The Analog segment offers power products to manage power requirements across various voltage levels, including battery-management solutions, DC/DC switching regulators, AC/DC and isolated controllers and converters, power switches, linear regulators, voltage references, and lighting products. This segment provides signal chain products that sense, condition, and measure signals to allow information to be transferred or converted for further processing and control, including amplifiers, data converters, interface products, motor drives, clocks, and logic and sensing products. The Embedded Processing segment offers microcontrollers that are used in electronic equipment; digital signal processors for mathematical computations; and applications processors for specific computing activity. This segment offers products for use in various markets, such as industrial, automotive, personal electronics, communications equipment, enterprise systems, and calculators and other. It provides DLP products primarily for use in project high-definition images; calculators; and application-specific integrated circuits. The company markets and sells its semiconductor products through direct sales and distributors, as well as through its website. Texas Instruments Incorporated was founded in 1930 and is headquartered in Dallas, Texas.\n"
          ]
        }
      ],
      "source": [
        "print(\"\\n\\n-------\\n\\n\".join(contexts))"
      ]
    },
    {
      "cell_type": "code",
      "execution_count": 172,
      "metadata": {
        "id": "eE1T_TAOPGAH"
      },
      "outputs": [],
      "source": [
        "augmented_query = \"<CONTEXT>\\n\" + \"\\n\\n-------\\n\\n\".join(contexts[ : 10]) + \"\\n-------\\n</CONTEXT>\\n\\n\\n\\nMY QUESTION:\\n\" + query"
      ]
    },
    {
      "cell_type": "code",
      "execution_count": 173,
      "metadata": {},
      "outputs": [
        {
          "data": {
            "text/plain": [
              "{}"
            ]
          },
          "execution_count": 173,
          "metadata": {},
          "output_type": "execute_result"
        }
      ],
      "source": [
        "filter_options"
      ]
    },
    {
      "cell_type": "code",
      "execution_count": 174,
      "metadata": {
        "colab": {
          "base_uri": "https://localhost:8080/"
        },
        "id": "BAnqmUbvPGCt",
        "outputId": "9245f795-d17a-4de4-f4c3-fcbf34d54da7"
      },
      "outputs": [
        {
          "name": "stdout",
          "output_type": "stream",
          "text": [
            "<CONTEXT>\n",
            "Tesla, Inc. designs, develops, manufactures, leases, and sells electric vehicles, and energy generation and storage systems in the United States, China, and internationally. The company operates in two segments, Automotive, and Energy Generation and Storage. The Automotive segment offers electric vehicles, as well as sells automotive regulatory credits; and non-warranty after-sales vehicle, used vehicles, body shop and parts, supercharging, retail merchandise, and vehicle insurance services. This segment also provides sedans and sport utility vehicles through direct and used vehicle sales, a network of Tesla Superchargers, and in-app upgrades; purchase financing and leasing services; services for electric vehicles through its company-owned service locations and Tesla mobile service technicians; and vehicle limited warranties and extended service plans. The Energy Generation and Storage segment engages in the design, manufacture, installation, sale, and leasing of solar energy generation and energy storage products, and related services to residential, commercial, and industrial customers and utilities through its website, stores, and galleries, as well as through a network of channel partners; and provision of service and repairs to its energy product customers, including under warranty, as well as various financing options to its solar customers. The company was formerly known as Tesla Motors, Inc. and changed its name to Tesla, Inc. in February 2017. Tesla, Inc. was incorporated in 2003 and is headquartered in Austin, Texas.\n",
            "\n",
            "-------\n",
            "\n",
            "XPeng Inc. designs, develops, manufactures, and markets smart electric vehicles (EVs) in the People's Republic of China. It offers SUVs under the G3, G3i, and G9 names; four-door sports sedans under the P7 and P7i names; and family sedans under the P5 name. The company also provides sales contracts, super charging, maintenance, technical support, auto financing, insurance, technology support, ride-hailing, automotive loan referral, and other services, as well as vehicle leasing and insurance agency services. In addition, it offers advanced driver-assistance system technology and in-car intelligent operating system; and vehicle systems comprising powertrains, and the electrical and electronic architecture. XPeng Inc. was founded in 2015 and is headquartered in Guangzhou, the People's Republic of China.\n",
            "\n",
            "-------\n",
            "\n",
            "Lucid Group, Inc. a technology company, designs, engineers, manufactures, and sells electric vehicles (EV), EV powertrains, and battery systems. It also designs and develops proprietary software in-house for Lucid vehicles. The company sells vehicles directly to consumers through its retail sales network and direct online sales, including Lucid Financial Services. Lucid Group, Inc. was founded in 2007 and is headquartered in Newark, California. Lucid Group, Inc. operates as a subsidiary of Ayar Third Investment Company.\n",
            "\n",
            "-------\n",
            "\n",
            "ZEEKR Intelligent Technology Holding Limited, an investment holding company, engages in the research and development, production, commercialization, and sale of the electric vehicles and batteries. It offers battery electric passenger vehicles (BEVs) and SUVs. The company also produces and sells electric powertrain and battery packs for electric vehicles, such as motors and electric control systems; and provides automotive related research and development services. It operates in China, Europe, and internationally. The company was founded in 2017 and is based in Ningbo, China. ZEEKR Intelligent Technology Holding Limited operates as a subsidiary of Geely Automobile Holdings Limited.\n",
            "\n",
            "-------\n",
            "\n",
            "EVgo, Inc. owns and operates a direct current fast charging network for electric vehicles (EVs) in the United States. The company offers electricity directly to drivers, who access its publicly available networked chargers; original equipment manufacturer charging and related services; fleet and rideshare public charging services; and charging as a service and fleet dedicated charging services. It also provides ancillary services, such as customization of digital applications, charging data integration, loyalty programs, access to chargers behind parking lot or garage pay gates, microtargeted advertising, and charging reservations; and hardware, design, and construction services for charging sites, as well as ongoing operations, maintenance, and networking and software integration solutions through eXtend. In addition, it offers PlugShare such as data, research, and advertising services and equipment procurement and operational services. EVgo, Inc. was incorporated in 2010 and is headquartered in Los Angeles, California.EVgo, Inc. operates as  a subsidiary of EVgo Holdings LLC.\n",
            "-------\n",
            "</CONTEXT>\n",
            "\n",
            "\n",
            "\n",
            "MY QUESTION:\n",
            "Electric vehicle manufacturers of cars, SUVs, and trucks with a focus on battery technology and sustainable energy.\n"
          ]
        }
      ],
      "source": [
        "print(augmented_query)"
      ]
    },
    {
      "cell_type": "code",
      "execution_count": 175,
      "metadata": {
        "id": "BcnhtcGpP42e"
      },
      "outputs": [],
      "source": [
        "client = OpenAI(\n",
        "  base_url=\"https://api.groq.com/openai/v1\",\n",
        "  api_key=os.getenv(\"GROQ_API_KEY\")\n",
        ")"
      ]
    },
    {
      "cell_type": "code",
      "execution_count": 176,
      "metadata": {
        "id": "j_-UvIOmPGFA"
      },
      "outputs": [
        {
          "name": "stdout",
          "output_type": "stream",
          "text": [
            "When it comes to electric vehicle (EV) manufacturers that focus on battery technology and sustainable energy, there are several notable companies leading the charge. Here are some of the top players in this space, with a high market capitalization:\n",
            "\n",
            "1. **Tesla, Inc. (TSLA)** - Tesla is one of the pioneers in the EV industry and a leader in battery technology. They offer a range of electric vehicles, including the Model S, Model X, Model 3, Model Y, and the upcoming Cybertruck.\n",
            "2. **Lucid Group, Inc. (LCID)** - Lucid is known for its luxury electric vehicles, such as the Lucid Air and the Lucid Gravity, which offer advanced battery technology and sustainable energy solutions.\n",
            "3. **XPeng Inc. (XPEV)** - XPeng is a Chinese EV manufacturer that focuses on developing advanced battery technology and sustainable energy solutions. Their vehicles, such as the G3 and P7, are designed with both performance and sustainability in mind.\n",
            "4. **Rivian Inc. (RIVN)** - While not listed in the provided context, Rivian is another notable player in the EV industry, particularly in the truck segment. Their R1T electric pickup truck offers advanced battery technology and sustainable energy solutions.\n",
            "5. **Li Auto Inc. (LI)** - Li Auto is a Chinese EV manufacturer that focuses on developing advanced battery technology and sustainable energy solutions for its vehicles, including the Li ONE.\n",
            "\n",
            "These companies are all making significant investments in battery technology and sustainable energy to power their electric vehicles. However, the list may vary based on your geographical and other preferences.\n"
          ]
        }
      ],
      "source": [
        "system_prompt = f\"\"\"You are an expert at providing answers about stocks. Please answer the question provided, in a conversational tone, but keep it professional and sharp. Assume the context in the prompt is part of your knowledge base, not something provided to you. Whenever you are asked to provide a list of companies, look for the companies with the highest market cap, within the prompt provided.\n",
        "\"\"\"\n",
        "\n",
        "llm_response = client.chat.completions.create(\n",
        "    model=\"llama-3.1-70b-versatile\",\n",
        "    messages=[\n",
        "        {\"role\": \"system\", \"content\": system_prompt},\n",
        "        {\"role\": \"user\", \"content\": augmented_query}\n",
        "    ]\n",
        ")\n",
        "\n",
        "response = llm_response.choices[0].message.content\n",
        "print(response)"
      ]
    },
    {
      "cell_type": "code",
      "execution_count": null,
      "metadata": {},
      "outputs": [],
      "source": []
    }
  ],
  "metadata": {
    "colab": {
      "provenance": []
    },
    "kernelspec": {
      "display_name": "Python 3",
      "name": "python3"
    },
    "language_info": {
      "codemirror_mode": {
        "name": "ipython",
        "version": 3
      },
      "file_extension": ".py",
      "mimetype": "text/x-python",
      "name": "python",
      "nbconvert_exporter": "python",
      "pygments_lexer": "ipython3",
      "version": "3.11.6"
    }
  },
  "nbformat": 4,
  "nbformat_minor": 0
}
